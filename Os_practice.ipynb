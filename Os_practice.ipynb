{
  "nbformat": 4,
  "nbformat_minor": 0,
  "metadata": {
    "colab": {
      "provenance": [],
      "authorship_tag": "ABX9TyP4lZfb+7wo57NjD6ZQDzzp",
      "include_colab_link": true
    },
    "kernelspec": {
      "name": "python3",
      "display_name": "Python 3"
    },
    "language_info": {
      "name": "python"
    }
  },
  "cells": [
    {
      "cell_type": "markdown",
      "metadata": {
        "id": "view-in-github",
        "colab_type": "text"
      },
      "source": [
        "<a href=\"https://colab.research.google.com/github/FSMahi/Python/blob/main/Os_practice.ipynb\" target=\"_parent\"><img src=\"https://colab.research.google.com/assets/colab-badge.svg\" alt=\"Open In Colab\"/></a>"
      ]
    },
    {
      "cell_type": "code",
      "execution_count": 1,
      "metadata": {
        "id": "I4vVqYTUr75l"
      },
      "outputs": [],
      "source": [
        "import os"
      ]
    },
    {
      "cell_type": "code",
      "source": [
        "os.getcwd()"
      ],
      "metadata": {
        "colab": {
          "base_uri": "https://localhost:8080/",
          "height": 36
        },
        "id": "j5FEyDLRsNy7",
        "outputId": "b642f4e1-af21-417b-807c-419ed8b6e0a5"
      },
      "execution_count": 3,
      "outputs": [
        {
          "output_type": "execute_result",
          "data": {
            "text/plain": [
              "'/content'"
            ],
            "application/vnd.google.colaboratory.intrinsic+json": {
              "type": "string"
            }
          },
          "metadata": {},
          "execution_count": 3
        }
      ]
    },
    {
      "cell_type": "code",
      "source": [
        "os.listdir('.')"
      ],
      "metadata": {
        "colab": {
          "base_uri": "https://localhost:8080/"
        },
        "id": "-Rv0Ex1isXK1",
        "outputId": "8d75bef3-1ace-4024-b80e-5581a84a01ba"
      },
      "execution_count": 4,
      "outputs": [
        {
          "output_type": "execute_result",
          "data": {
            "text/plain": [
              "['.config', 'sample_data']"
            ]
          },
          "metadata": {},
          "execution_count": 4
        }
      ]
    },
    {
      "cell_type": "code",
      "source": [
        "os.listdir('/usr')"
      ],
      "metadata": {
        "colab": {
          "base_uri": "https://localhost:8080/"
        },
        "id": "hAPga_3psnTf",
        "outputId": "7928a9b0-1356-47c2-bc12-aca769a48620"
      },
      "execution_count": 5,
      "outputs": [
        {
          "output_type": "execute_result",
          "data": {
            "text/plain": [
              "['games',\n",
              " 'libx32',\n",
              " 'libexec',\n",
              " 'include',\n",
              " 'lib',\n",
              " 'lib32',\n",
              " 'local',\n",
              " 'sbin',\n",
              " 'share',\n",
              " 'bin',\n",
              " 'lib64',\n",
              " 'src',\n",
              " 'colab',\n",
              " 'grte']"
            ]
          },
          "metadata": {},
          "execution_count": 5
        }
      ]
    },
    {
      "cell_type": "code",
      "source": [
        "import os\n",
        "\n",
        "# Create\n",
        "os.makedirs('data', exist_ok=True)\n",
        "\n",
        "# Check\n",
        "print(os.listdir())\n"
      ],
      "metadata": {
        "colab": {
          "base_uri": "https://localhost:8080/"
        },
        "id": "IgYX56OHstrd",
        "outputId": "d1137a21-caa9-4e71-ff6a-7bc5c1c60fcd"
      },
      "execution_count": 9,
      "outputs": [
        {
          "output_type": "stream",
          "name": "stdout",
          "text": [
            "['.config', 'my_folder', 'data', 'sample_data']\n"
          ]
        }
      ]
    },
    {
      "cell_type": "code",
      "source": [
        "'data' in os.listdir('.')"
      ],
      "metadata": {
        "colab": {
          "base_uri": "https://localhost:8080/"
        },
        "id": "R6AUB2UdvD_l",
        "outputId": "ea7ad25f-ce8e-4627-e420-e88eea6c3bf0"
      },
      "execution_count": 10,
      "outputs": [
        {
          "output_type": "execute_result",
          "data": {
            "text/plain": [
              "True"
            ]
          },
          "metadata": {},
          "execution_count": 10
        }
      ]
    },
    {
      "cell_type": "code",
      "source": [
        "os.listdir('data')"
      ],
      "metadata": {
        "colab": {
          "base_uri": "https://localhost:8080/"
        },
        "id": "EIGNBC_Bu6Ij",
        "outputId": "1772d843-975b-40c6-cadd-569b5f7ebc85"
      },
      "execution_count": 11,
      "outputs": [
        {
          "output_type": "execute_result",
          "data": {
            "text/plain": [
              "[]"
            ]
          },
          "metadata": {},
          "execution_count": 11
        }
      ]
    },
    {
      "cell_type": "code",
      "source": [
        "# Define the data for the loan text files\n",
        "loan1_data = '''amount, duration, rate, down_payment\n",
        "100000,36,0.08,20000\n",
        "200000,12,0.1,25000\n",
        "628400,120,0.12,100000\n",
        "4637400,240,0.06,150000\n",
        "42900,90,0.07,8900\n",
        "916000,16,0.13,12000\n",
        "45230,48,0.08,4300\n",
        "991360,99,0.08,80000\n",
        "423000,27,0.09,47200\n",
        "'''\n",
        "\n",
        "loan2_data = '''amount, duration, rate, down_payment\n",
        "500000,60,0.05,30000\n",
        "1000000,72,0.07,40000\n",
        "1200000,84,0.06,60000\n",
        "2000000,120,0.08,80000\n",
        "3000000,180,0.1,120000\n",
        "1500000,36,0.09,50000\n",
        "750000,24,0.08,30000\n",
        "200000,18,0.1,25000\n",
        "'''\n",
        "\n",
        "loan3_data = '''amount, duration, rate, down_payment\n",
        "800000,36,0.07,25000\n",
        "250000,24,0.06,20000\n",
        "500000,48,0.05,15000\n",
        "1000000,120,0.09,40000\n",
        "700000,72,0.08,30000\n",
        "1500000,96,0.1,50000\n",
        "850000,36,0.08,27000\n",
        "450000,60,0.07,22000\n",
        "'''\n",
        "\n",
        "# Create a directory called 'data' to store the files\n",
        "import os\n",
        "os.makedirs('data', exist_ok=True)\n",
        "\n",
        "# Save the data to text files in the 'data' directory\n",
        "with open('data/loan1.txt', 'w') as f:\n",
        "    f.write(loan1_data)\n",
        "\n",
        "with open('data/loan2.txt', 'w') as f:\n",
        "    f.write(loan2_data)\n",
        "\n",
        "with open('data/loan3.txt', 'w') as f:\n",
        "    f.write(loan3_data)\n",
        "\n",
        "# List files in the 'data' directory to confirm they are saved\n",
        "!ls data\n"
      ],
      "metadata": {
        "colab": {
          "base_uri": "https://localhost:8080/"
        },
        "id": "Hzh0VMos1IG-",
        "outputId": "13a850b1-8afe-4f78-bbc7-6feaaf9f7412"
      },
      "execution_count": 12,
      "outputs": [
        {
          "output_type": "stream",
          "name": "stdout",
          "text": [
            "loan1.txt  loan2.txt  loan3.txt\n"
          ]
        }
      ]
    },
    {
      "cell_type": "code",
      "source": [
        "os.listdir('data')"
      ],
      "metadata": {
        "colab": {
          "base_uri": "https://localhost:8080/"
        },
        "id": "Luew1VMV1ZX1",
        "outputId": "2bdd2c9c-3030-4591-ac33-16dc9168a9cd"
      },
      "execution_count": 13,
      "outputs": [
        {
          "output_type": "execute_result",
          "data": {
            "text/plain": [
              "['loan2.txt', 'loan1.txt', 'loan3.txt']"
            ]
          },
          "metadata": {},
          "execution_count": 13
        }
      ]
    },
    {
      "cell_type": "code",
      "source": [
        "file1= open('data/loan1.txt', mode= 'r')"
      ],
      "metadata": {
        "id": "HqJV3UQU1hO8"
      },
      "execution_count": 14,
      "outputs": []
    },
    {
      "cell_type": "code",
      "source": [
        "file1_content= file1.read()\n",
        "print(file1_content)"
      ],
      "metadata": {
        "colab": {
          "base_uri": "https://localhost:8080/"
        },
        "id": "b8bcpEMc1qTo",
        "outputId": "4b9cccad-3475-432c-b79c-50f3710c77a1"
      },
      "execution_count": 15,
      "outputs": [
        {
          "output_type": "stream",
          "name": "stdout",
          "text": [
            "amount, duration, rate, down_payment\n",
            "100000,36,0.08,20000\n",
            "200000,12,0.1,25000\n",
            "628400,120,0.12,100000\n",
            "4637400,240,0.06,150000\n",
            "42900,90,0.07,8900\n",
            "916000,16,0.13,12000\n",
            "45230,48,0.08,4300\n",
            "991360,99,0.08,80000\n",
            "423000,27,0.09,47200\n",
            "\n"
          ]
        }
      ]
    },
    {
      "cell_type": "code",
      "source": [
        "file1.close()"
      ],
      "metadata": {
        "id": "Z-w27eBl2d1L"
      },
      "execution_count": 16,
      "outputs": []
    },
    {
      "cell_type": "code",
      "source": [
        "file1.read()"
      ],
      "metadata": {
        "colab": {
          "base_uri": "https://localhost:8080/",
          "height": 146
        },
        "id": "A2t-XXIl2ieZ",
        "outputId": "6e152f59-9aca-4a51-be6f-6b13a144e260"
      },
      "execution_count": 17,
      "outputs": [
        {
          "output_type": "error",
          "ename": "ValueError",
          "evalue": "I/O operation on closed file.",
          "traceback": [
            "\u001b[0;31m---------------------------------------------------------------------------\u001b[0m",
            "\u001b[0;31mValueError\u001b[0m                                Traceback (most recent call last)",
            "\u001b[0;32m<ipython-input-17-2fcf3b5e742f>\u001b[0m in \u001b[0;36m<cell line: 0>\u001b[0;34m()\u001b[0m\n\u001b[0;32m----> 1\u001b[0;31m \u001b[0mfile1\u001b[0m\u001b[0;34m.\u001b[0m\u001b[0mread\u001b[0m\u001b[0;34m(\u001b[0m\u001b[0;34m)\u001b[0m\u001b[0;34m\u001b[0m\u001b[0;34m\u001b[0m\u001b[0m\n\u001b[0m",
            "\u001b[0;31mValueError\u001b[0m: I/O operation on closed file."
          ]
        }
      ]
    },
    {
      "cell_type": "code",
      "source": [
        "with open('data/loan2.txt') as file2:\n",
        "    file2_content= file2.read()\n",
        "    print(file2_content)"
      ],
      "metadata": {
        "colab": {
          "base_uri": "https://localhost:8080/"
        },
        "id": "pA8yfocd2nzi",
        "outputId": "23ec6187-667c-4989-b312-1c2cdbb52952"
      },
      "execution_count": 19,
      "outputs": [
        {
          "output_type": "stream",
          "name": "stdout",
          "text": [
            "amount, duration, rate, down_payment\n",
            "500000,60,0.05,30000\n",
            "1000000,72,0.07,40000\n",
            "1200000,84,0.06,60000\n",
            "2000000,120,0.08,80000\n",
            "3000000,180,0.1,120000\n",
            "1500000,36,0.09,50000\n",
            "750000,24,0.08,30000\n",
            "200000,18,0.1,25000\n",
            "\n"
          ]
        }
      ]
    },
    {
      "cell_type": "code",
      "source": [
        "file2.read()"
      ],
      "metadata": {
        "colab": {
          "base_uri": "https://localhost:8080/",
          "height": 146
        },
        "id": "0PWt1GNr83YN",
        "outputId": "f8fd65f9-5f45-4bff-e935-62dc619982d9"
      },
      "execution_count": 20,
      "outputs": [
        {
          "output_type": "error",
          "ename": "ValueError",
          "evalue": "I/O operation on closed file.",
          "traceback": [
            "\u001b[0;31m---------------------------------------------------------------------------\u001b[0m",
            "\u001b[0;31mValueError\u001b[0m                                Traceback (most recent call last)",
            "\u001b[0;32m<ipython-input-20-4a9205324152>\u001b[0m in \u001b[0;36m<cell line: 0>\u001b[0;34m()\u001b[0m\n\u001b[0;32m----> 1\u001b[0;31m \u001b[0mfile2\u001b[0m\u001b[0;34m.\u001b[0m\u001b[0mread\u001b[0m\u001b[0;34m(\u001b[0m\u001b[0;34m)\u001b[0m\u001b[0;34m\u001b[0m\u001b[0;34m\u001b[0m\u001b[0m\n\u001b[0m",
            "\u001b[0;31mValueError\u001b[0m: I/O operation on closed file."
          ]
        }
      ]
    },
    {
      "cell_type": "code",
      "source": [
        "with open('data/loan3.txt') as file3:\n",
        "    file3_lines= file3.readlines()\n",
        "    print(file3_lines)"
      ],
      "metadata": {
        "colab": {
          "base_uri": "https://localhost:8080/"
        },
        "id": "fuZnVXza88LO",
        "outputId": "a339b58a-75a1-4a58-e2a9-5b929eae9dc3"
      },
      "execution_count": 23,
      "outputs": [
        {
          "output_type": "stream",
          "name": "stdout",
          "text": [
            "['amount, duration, rate, down_payment\\n', '800000,36,0.07,25000\\n', '250000,24,0.06,20000\\n', '500000,48,0.05,15000\\n', '1000000,120,0.09,40000\\n', '700000,72,0.08,30000\\n', '1500000,96,0.1,50000\\n', '850000,36,0.08,27000\\n', '450000,60,0.07,22000\\n']\n"
          ]
        }
      ]
    },
    {
      "cell_type": "code",
      "source": [
        "file3_lines[0].strip()"
      ],
      "metadata": {
        "colab": {
          "base_uri": "https://localhost:8080/",
          "height": 36
        },
        "id": "1lh2Jvay9JjD",
        "outputId": "9d979db0-6e53-4aa1-c2d4-c1f22e7ad6bf"
      },
      "execution_count": 24,
      "outputs": [
        {
          "output_type": "execute_result",
          "data": {
            "text/plain": [
              "'amount, duration, rate, down_payment'"
            ],
            "application/vnd.google.colaboratory.intrinsic+json": {
              "type": "string"
            }
          },
          "metadata": {},
          "execution_count": 24
        }
      ]
    },
    {
      "cell_type": "markdown",
      "source": [
        "##Processing data from files\n",
        "\n",
        "Before performing any operations on the data stored in a file, we need to convert the contents of the file from one large string into Python data types. For the file loans1.txt containing information about loans in a CSV format, we can do the following:\n",
        "\n",
        "-Read the file line by line\n",
        "\n",
        "-Parse the first line to get list of the column names or headers\n",
        "\n",
        "-Split each remaining line and convert each value into a float\n",
        "\n",
        "-Create a dictionary for each loan using the headers as keys\n",
        "\n",
        "-Create a list of dictionaries to keep track of all the loans\n",
        "\n",
        "Since we will perform the same operations for multiple files, it would be useful define a function read_csv to do this. We'll also define some helper functions to build up the functionality step by step.\n",
        "\n",
        "Let's start by defining a function parse_header which takes a line as input and returns a list of column headers."
      ],
      "metadata": {
        "id": "BemU29cEEnOy"
      }
    },
    {
      "cell_type": "code",
      "source": [
        "print(file2_content)"
      ],
      "metadata": {
        "colab": {
          "base_uri": "https://localhost:8080/"
        },
        "id": "pA_nSYN79aB5",
        "outputId": "241053a1-21b1-44f3-e643-5f96976f391f"
      },
      "execution_count": 25,
      "outputs": [
        {
          "output_type": "stream",
          "name": "stdout",
          "text": [
            "amount, duration, rate, down_payment\n",
            "500000,60,0.05,30000\n",
            "1000000,72,0.07,40000\n",
            "1200000,84,0.06,60000\n",
            "2000000,120,0.08,80000\n",
            "3000000,180,0.1,120000\n",
            "1500000,36,0.09,50000\n",
            "750000,24,0.08,30000\n",
            "200000,18,0.1,25000\n",
            "\n"
          ]
        }
      ]
    },
    {
      "cell_type": "code",
      "source": [
        "'500000,60,0.05,30000'.split(',')"
      ],
      "metadata": {
        "colab": {
          "base_uri": "https://localhost:8080/"
        },
        "id": "rwqH0yZOFOnF",
        "outputId": "45c3ec42-6467-4ef0-93e1-8138943e3725"
      },
      "execution_count": 26,
      "outputs": [
        {
          "output_type": "execute_result",
          "data": {
            "text/plain": [
              "['500000', '60', '0.05', '30000']"
            ]
          },
          "metadata": {},
          "execution_count": 26
        }
      ]
    },
    {
      "cell_type": "code",
      "source": [
        "loanl = {\n",
        "\n",
        "'amount': 100000,\n",
        "\n",
        "'duration': 36,\n",
        "\n",
        "'rate': 0.8,\n",
        "\n",
        "'down payment': 30000\n",
        "\n",
        "}"
      ],
      "metadata": {
        "id": "xR37ybnnFYR3"
      },
      "execution_count": 27,
      "outputs": []
    },
    {
      "cell_type": "code",
      "source": [
        "def parse_headers(header_line): return header_line.strip().split(',')"
      ],
      "metadata": {
        "id": "rTEAIeU8F_E1"
      },
      "execution_count": 28,
      "outputs": []
    },
    {
      "cell_type": "code",
      "source": [
        "with open('data/loan3.txt') as file3:\n",
        "    file3_lines= file3.readlines()\n",
        "    print(file3_lines)"
      ],
      "metadata": {
        "colab": {
          "base_uri": "https://localhost:8080/"
        },
        "id": "MGZsHwHwGuCm",
        "outputId": "62f25bbb-6c45-41b0-86f5-918ef007d0fb"
      },
      "execution_count": 34,
      "outputs": [
        {
          "output_type": "stream",
          "name": "stdout",
          "text": [
            "['amount, duration, rate, down_payment\\n', '800000,36,0.07,25000\\n', '250000,24,0.06,20000\\n', '500000,48,0.05,15000\\n', '1000000,120,0.09,40000\\n', '700000,72,0.08,30000\\n', '1500000,96,0.1,50000\\n', '850000,36,0.08,27000\\n', '450000,60,0.07,22000\\n']\n"
          ]
        }
      ]
    },
    {
      "cell_type": "code",
      "source": [
        "file3_lines[0]"
      ],
      "metadata": {
        "colab": {
          "base_uri": "https://localhost:8080/",
          "height": 36
        },
        "id": "6kjb4EDmG25P",
        "outputId": "929c9096-6a6a-49e9-8bc1-80abbca87560"
      },
      "execution_count": 35,
      "outputs": [
        {
          "output_type": "execute_result",
          "data": {
            "text/plain": [
              "'amount, duration, rate, down_payment\\n'"
            ],
            "application/vnd.google.colaboratory.intrinsic+json": {
              "type": "string"
            }
          },
          "metadata": {},
          "execution_count": 35
        }
      ]
    },
    {
      "cell_type": "code",
      "source": [
        "headers=parse_headers(file3_lines[0])"
      ],
      "metadata": {
        "id": "czeWFGtEG4zf"
      },
      "execution_count": 36,
      "outputs": []
    },
    {
      "cell_type": "markdown",
      "source": [
        "Next, let's define a function parse_values which takes a line containing some data, and returns a list of floating point"
      ],
      "metadata": {
        "id": "WBxLkKY9HMWg"
      }
    },
    {
      "cell_type": "code",
      "source": [
        "headers"
      ],
      "metadata": {
        "colab": {
          "base_uri": "https://localhost:8080/"
        },
        "id": "5aze5_oUHCof",
        "outputId": "d8c4878d-90b9-43a5-aaff-4be9f2c5ada3"
      },
      "execution_count": 37,
      "outputs": [
        {
          "output_type": "execute_result",
          "data": {
            "text/plain": [
              "['amount', ' duration', ' rate', ' down_payment']"
            ]
          },
          "metadata": {},
          "execution_count": 37
        }
      ]
    },
    {
      "cell_type": "code",
      "source": [
        "def parse_values(data_line):\n",
        "    values = []\n",
        "    for item in data_line.strip().split(','):\n",
        "       values.append(float(item))\n",
        "    return values"
      ],
      "metadata": {
        "id": "3JiYYUwCHrC3"
      },
      "execution_count": 39,
      "outputs": []
    },
    {
      "cell_type": "code",
      "source": [
        "file3_lines[2].strip().split(',')"
      ],
      "metadata": {
        "colab": {
          "base_uri": "https://localhost:8080/"
        },
        "id": "y2x_iAs4IEmJ",
        "outputId": "584cafeb-ce18-49f6-ef84-b4be7b9996f4"
      },
      "execution_count": 42,
      "outputs": [
        {
          "output_type": "execute_result",
          "data": {
            "text/plain": [
              "['250000', '24', '0.06', '20000']"
            ]
          },
          "metadata": {},
          "execution_count": 42
        }
      ]
    },
    {
      "cell_type": "code",
      "source": [
        "file3_lines [2]"
      ],
      "metadata": {
        "colab": {
          "base_uri": "https://localhost:8080/",
          "height": 36
        },
        "id": "0Xmw30N1H4Uw",
        "outputId": "50bdfd12-a88a-4e8a-a5e4-c3cdb5fb7566"
      },
      "execution_count": 40,
      "outputs": [
        {
          "output_type": "execute_result",
          "data": {
            "text/plain": [
              "'250000,24,0.06,20000\\n'"
            ],
            "application/vnd.google.colaboratory.intrinsic+json": {
              "type": "string"
            }
          },
          "metadata": {},
          "execution_count": 40
        }
      ]
    },
    {
      "cell_type": "code",
      "source": [
        "parse_values(file3_lines[2])"
      ],
      "metadata": {
        "colab": {
          "base_uri": "https://localhost:8080/"
        },
        "id": "XIucYpEAIPhy",
        "outputId": "6810280d-1fe7-42e6-c3ed-f41432b1967c"
      },
      "execution_count": 43,
      "outputs": [
        {
          "output_type": "execute_result",
          "data": {
            "text/plain": [
              "[250000.0, 24.0, 0.06, 20000.0]"
            ]
          },
          "metadata": {},
          "execution_count": 43
        }
      ]
    },
    {
      "cell_type": "markdown",
      "source": [
        "This leads to a ValueError because the empty string cannot be converted to a float. We can enhance the parse_values function to handle this edge case."
      ],
      "metadata": {
        "id": "gioQkeutIvUJ"
      }
    },
    {
      "cell_type": "code",
      "source": [
        "def parse_values(data_line):\n",
        "    values = []\n",
        "    for item in data_line.strip().split(','):\n",
        "      if item == ' ':\n",
        "        values.append(0.0)\n",
        "      else:\n",
        "        values.append(float(item))\n",
        "    return values\n"
      ],
      "metadata": {
        "id": "ZOeLfBDHIwjr"
      },
      "execution_count": 45,
      "outputs": []
    },
    {
      "cell_type": "code",
      "source": [
        "file3_content[2]"
      ],
      "metadata": {
        "colab": {
          "base_uri": "https://localhost:8080/",
          "height": 36
        },
        "id": "8CA-tuLSJY3R",
        "outputId": "4ad3fb28-6e10-4843-a520-1d52ecaeac03"
      },
      "execution_count": 46,
      "outputs": [
        {
          "output_type": "execute_result",
          "data": {
            "text/plain": [
              "'250000,24,0.06,20000\\n'"
            ],
            "application/vnd.google.colaboratory.intrinsic+json": {
              "type": "string"
            }
          },
          "metadata": {},
          "execution_count": 46
        }
      ]
    },
    {
      "cell_type": "code",
      "source": [
        "parse_values(file3_content[2])"
      ],
      "metadata": {
        "colab": {
          "base_uri": "https://localhost:8080/"
        },
        "id": "Oa0IV-TpJdv5",
        "outputId": "06130a07-6c54-4c77-fdac-c3e61fbc4656"
      },
      "execution_count": 47,
      "outputs": [
        {
          "output_type": "execute_result",
          "data": {
            "text/plain": [
              "[250000.0, 24.0, 0.06, 20000.0]"
            ]
          },
          "metadata": {},
          "execution_count": 47
        }
      ]
    },
    {
      "cell_type": "markdown",
      "source": [
        "Next, let's define a function create_item_dict which takes a list of values and a list of headers as inputs, and returns a dictionary with the values associated with their respective\n",
        "headers as keys"
      ],
      "metadata": {
        "id": "XRfnBswCJrCg"
      }
    },
    {
      "cell_type": "code",
      "source": [
        "def create_item_dict(values, headers):\n",
        "    result = {}\n",
        "    for value, header in zip(values, headers):\n",
        "        result[header]= value\n",
        "    return result"
      ],
      "metadata": {
        "id": "-s_j_tjjJ9Tv"
      },
      "execution_count": 49,
      "outputs": []
    },
    {
      "cell_type": "code",
      "source": [
        "for item in zip([1,2,3], ['a', 'b', 'c']):\n",
        " print(item)"
      ],
      "metadata": {
        "colab": {
          "base_uri": "https://localhost:8080/"
        },
        "id": "OrokrUEpKhQ3",
        "outputId": "aac4d55a-9876-4bd7-ac47-4e0fbd6a4ddb"
      },
      "execution_count": 51,
      "outputs": [
        {
          "output_type": "stream",
          "name": "stdout",
          "text": [
            "(1, 'a')\n",
            "(2, 'b')\n",
            "(3, 'c')\n"
          ]
        }
      ]
    },
    {
      "cell_type": "code",
      "source": [
        "file3_lines[1]"
      ],
      "metadata": {
        "colab": {
          "base_uri": "https://localhost:8080/",
          "height": 36
        },
        "id": "6jo-hxWsK43x",
        "outputId": "88f53487-4ec2-4546-b24e-45372b133993"
      },
      "execution_count": 52,
      "outputs": [
        {
          "output_type": "execute_result",
          "data": {
            "text/plain": [
              "'800000,36,0.07,25000\\n'"
            ],
            "application/vnd.google.colaboratory.intrinsic+json": {
              "type": "string"
            }
          },
          "metadata": {},
          "execution_count": 52
        }
      ]
    },
    {
      "cell_type": "code",
      "source": [
        "values1= parse_values(file3_lines[1])\n",
        "create_item_dict(values1, headers)"
      ],
      "metadata": {
        "colab": {
          "base_uri": "https://localhost:8080/"
        },
        "id": "oAQpb4EMK7E3",
        "outputId": "59230671-ffb4-4eda-a7c7-0b6ceac19560"
      },
      "execution_count": 55,
      "outputs": [
        {
          "output_type": "execute_result",
          "data": {
            "text/plain": [
              "{'amount': 800000.0,\n",
              " ' duration': 36.0,\n",
              " ' rate': 0.07,\n",
              " ' down_payment': 25000.0}"
            ]
          },
          "metadata": {},
          "execution_count": 55
        }
      ]
    },
    {
      "cell_type": "code",
      "source": [
        "file3_lines[2]"
      ],
      "metadata": {
        "colab": {
          "base_uri": "https://localhost:8080/",
          "height": 36
        },
        "id": "6bm22QAALOsx",
        "outputId": "b14feca1-b96b-42c9-e972-9ef4b15f0347"
      },
      "execution_count": 57,
      "outputs": [
        {
          "output_type": "execute_result",
          "data": {
            "text/plain": [
              "'250000,24,0.06,20000\\n'"
            ],
            "application/vnd.google.colaboratory.intrinsic+json": {
              "type": "string"
            }
          },
          "metadata": {},
          "execution_count": 57
        }
      ]
    },
    {
      "cell_type": "code",
      "source": [
        "values2= parse_values(file3_lines[2])\n",
        "create_item_dict(values2, headers)"
      ],
      "metadata": {
        "colab": {
          "base_uri": "https://localhost:8080/"
        },
        "id": "XRRQNKdDLY6A",
        "outputId": "4d665654-8bff-4d64-d3dd-154c32d5f347"
      },
      "execution_count": 58,
      "outputs": [
        {
          "output_type": "execute_result",
          "data": {
            "text/plain": [
              "{'amount': 250000.0,\n",
              " ' duration': 24.0,\n",
              " ' rate': 0.06,\n",
              " ' down_payment': 20000.0}"
            ]
          },
          "metadata": {},
          "execution_count": 58
        }
      ]
    },
    {
      "cell_type": "markdown",
      "source": [
        "As expected, the values & header are combined to create a dictionary with the approriate key-value pairs.\n",
        "We are now ready to put it all together and define the read_csv function."
      ],
      "metadata": {
        "id": "5-rI7d1kLuq7"
      }
    },
    {
      "cell_type": "code",
      "source": [
        "def read_csv(path):\n",
        "    result = []\n",
        "    #Open the file in read mode with open (path, 'r') as f:\n",
        "    with open(path, 'r') as f:\n",
        "         #Get a list of lines\n",
        "         lines = f.readlines()\n",
        "         #Parse the header\n",
        "         headers = parse_headers(lines[0])\n",
        "         #Loop over the remaining lines\n",
        "         for data_line in lines [1:]:\n",
        "             #Parse the values\n",
        "             values = parse_values(data_line)\n",
        "              #Create a dictionary using values & headers\n",
        "             item_dict = create_item_dict(values, headers)\n",
        "           #Add the dictionary to the result\n",
        "             result.append(item_dict)\n",
        "    return result"
      ],
      "metadata": {
        "id": "AeQpcz5EL9XW"
      },
      "execution_count": 67,
      "outputs": []
    },
    {
      "cell_type": "code",
      "source": [
        "with open('data/loan2.txt') as file2:\n",
        "    file2_content= file2.read()\n",
        "    print(file2_content)"
      ],
      "metadata": {
        "colab": {
          "base_uri": "https://localhost:8080/"
        },
        "id": "zLHAICNpN30K",
        "outputId": "99e9ec09-d037-409b-9a84-8dd0c3d5a41f"
      },
      "execution_count": 69,
      "outputs": [
        {
          "output_type": "stream",
          "name": "stdout",
          "text": [
            "amount, duration, rate, down_payment\n",
            "500000,60,0.05,30000\n",
            "1000000,72,0.07,40000\n",
            "1200000,84,0.06,60000\n",
            "2000000,120,0.08,80000\n",
            "3000000,180,0.1,120000\n",
            "1500000,36,0.09,50000\n",
            "750000,24,0.08,30000\n",
            "200000,18,0.1,25000\n",
            "\n"
          ]
        }
      ]
    },
    {
      "cell_type": "code",
      "source": [
        "read_csv('data/loan2.txt')"
      ],
      "metadata": {
        "colab": {
          "base_uri": "https://localhost:8080/"
        },
        "id": "-UFHNK2iOPAg",
        "outputId": "f023c735-e9f2-4121-a2bc-60f45e4c6f5f"
      },
      "execution_count": 71,
      "outputs": [
        {
          "output_type": "execute_result",
          "data": {
            "text/plain": [
              "[{'amount': 500000.0,\n",
              "  ' duration': 60.0,\n",
              "  ' rate': 0.05,\n",
              "  ' down_payment': 30000.0},\n",
              " {'amount': 1000000.0,\n",
              "  ' duration': 72.0,\n",
              "  ' rate': 0.07,\n",
              "  ' down_payment': 40000.0},\n",
              " {'amount': 1200000.0,\n",
              "  ' duration': 84.0,\n",
              "  ' rate': 0.06,\n",
              "  ' down_payment': 60000.0},\n",
              " {'amount': 2000000.0,\n",
              "  ' duration': 120.0,\n",
              "  ' rate': 0.08,\n",
              "  ' down_payment': 80000.0},\n",
              " {'amount': 3000000.0,\n",
              "  ' duration': 180.0,\n",
              "  ' rate': 0.1,\n",
              "  ' down_payment': 120000.0},\n",
              " {'amount': 1500000.0,\n",
              "  ' duration': 36.0,\n",
              "  ' rate': 0.09,\n",
              "  ' down_payment': 50000.0},\n",
              " {'amount': 750000.0,\n",
              "  ' duration': 24.0,\n",
              "  ' rate': 0.08,\n",
              "  ' down_payment': 30000.0},\n",
              " {'amount': 200000.0,\n",
              "  ' duration': 18.0,\n",
              "  ' rate': 0.1,\n",
              "  ' down_payment': 25000.0}]"
            ]
          },
          "metadata": {},
          "execution_count": 71
        }
      ]
    },
    {
      "cell_type": "code",
      "source": [
        "def parse_headers (header_line):\n",
        "     return [header.strip() for header in header_line.strip().split(',')] # strip leading/trailing whitespaces from headers\n",
        "\n",
        "def parse_values(data_line):\n",
        "    values = []\n",
        "    for item in data_line.strip().split(','):\n",
        "      if item == ' ':\n",
        "        values.append(0.0)\n",
        "      else:\n",
        "        values.append(float(item))\n",
        "    return values\n",
        "\n",
        "def create_item_dict(values, headers):\n",
        "    result = {}\n",
        "    for value, header in zip(values, headers):\n",
        "        result[header]= value\n",
        "    return result\n",
        "\n",
        "def read_csv(path):\n",
        "    result = []\n",
        "    #Open the file in read mode with open (path, 'r') as f:\n",
        "    with open(path, 'r') as f:\n",
        "         #Get a list of lines\n",
        "         lines = f.readlines()\n",
        "         #Parse the header\n",
        "         headers = parse_headers(lines[0])\n",
        "         #Loop over the remaining lines\n",
        "         for data_line in lines [1:]:\n",
        "             #Parse the values\n",
        "             values = parse_values(data_line)\n",
        "              #Create a dictionary using values & headers\n",
        "             item_dict = create_item_dict(values, headers)\n",
        "           #Add the dictionary to the result\n",
        "             result.append(item_dict)\n",
        "    return result\n"
      ],
      "metadata": {
        "id": "HbqQJXFcOY3K"
      },
      "execution_count": 86,
      "outputs": []
    },
    {
      "cell_type": "code",
      "source": [
        "import math\n",
        "def loan_emi(amount, duration, rate, down_payment=0):\n",
        "    \"\"\"Calculates the equal montly installment (EMI) for a loan.\n",
        "    Arguments:\n",
        "      Total amount to be spent (loan down payment)\n",
        "      duration Duration of the loan (in months)\n",
        "      rate Rate of interest (monthly)\n",
        "      down_payment (optional) Optional intial payment\n",
        "    \"\"\"\n",
        "    loan_amount = amount - down_payment\n",
        "    try:\n",
        "        emi = loan_amount * rate* ((1+rate)**duration) / (((1+rate)**duration)-1)\n",
        "    except ZeroDivisionError:\n",
        "        emi = loan_amount / duration\n",
        "    emi = math.ceil(emi)\n",
        "    return emi"
      ],
      "metadata": {
        "id": "wOS-mdQ8Pgwn"
      },
      "execution_count": 87,
      "outputs": []
    },
    {
      "cell_type": "code",
      "source": [
        "loan2 = read_csv('data/loan2.txt')"
      ],
      "metadata": {
        "id": "kp22dsRUTNlB"
      },
      "execution_count": 88,
      "outputs": []
    },
    {
      "cell_type": "code",
      "source": [
        "loan2"
      ],
      "metadata": {
        "colab": {
          "base_uri": "https://localhost:8080/"
        },
        "id": "3YQB0rIpTm4a",
        "outputId": "63ef14e1-1fcd-47ae-e30f-593d53ed7e80"
      },
      "execution_count": 89,
      "outputs": [
        {
          "output_type": "execute_result",
          "data": {
            "text/plain": [
              "[{'amount': 500000.0, 'duration': 60.0, 'rate': 0.05, 'down_payment': 30000.0},\n",
              " {'amount': 1000000.0,\n",
              "  'duration': 72.0,\n",
              "  'rate': 0.07,\n",
              "  'down_payment': 40000.0},\n",
              " {'amount': 1200000.0,\n",
              "  'duration': 84.0,\n",
              "  'rate': 0.06,\n",
              "  'down_payment': 60000.0},\n",
              " {'amount': 2000000.0,\n",
              "  'duration': 120.0,\n",
              "  'rate': 0.08,\n",
              "  'down_payment': 80000.0},\n",
              " {'amount': 3000000.0,\n",
              "  'duration': 180.0,\n",
              "  'rate': 0.1,\n",
              "  'down_payment': 120000.0},\n",
              " {'amount': 1500000.0,\n",
              "  'duration': 36.0,\n",
              "  'rate': 0.09,\n",
              "  'down_payment': 50000.0},\n",
              " {'amount': 750000.0, 'duration': 24.0, 'rate': 0.08, 'down_payment': 30000.0},\n",
              " {'amount': 200000.0, 'duration': 18.0, 'rate': 0.1, 'down_payment': 25000.0}]"
            ]
          },
          "metadata": {},
          "execution_count": 89
        }
      ]
    },
    {
      "cell_type": "code",
      "source": [
        "for loan in loan2:\n",
        "    loan['emi'] = loan_emi(loan ['amount'],\n",
        "                  loan['duration'],\n",
        "                  loan['rate']/12,\n",
        "                  loan ['down_payment'])"
      ],
      "metadata": {
        "id": "NGBIK5aZTo6_"
      },
      "execution_count": 90,
      "outputs": []
    },
    {
      "cell_type": "code",
      "source": [
        "loan2"
      ],
      "metadata": {
        "colab": {
          "base_uri": "https://localhost:8080/"
        },
        "id": "hMwa2okuV-kF",
        "outputId": "fa793d55-26ec-4aba-d892-098c12380c2c"
      },
      "execution_count": 91,
      "outputs": [
        {
          "output_type": "execute_result",
          "data": {
            "text/plain": [
              "[{'amount': 500000.0,\n",
              "  'duration': 60.0,\n",
              "  'rate': 0.05,\n",
              "  'down_payment': 30000.0,\n",
              "  'emi': 8870},\n",
              " {'amount': 1000000.0,\n",
              "  'duration': 72.0,\n",
              "  'rate': 0.07,\n",
              "  'down_payment': 40000.0,\n",
              "  'emi': 16368},\n",
              " {'amount': 1200000.0,\n",
              "  'duration': 84.0,\n",
              "  'rate': 0.06,\n",
              "  'down_payment': 60000.0,\n",
              "  'emi': 16654},\n",
              " {'amount': 2000000.0,\n",
              "  'duration': 120.0,\n",
              "  'rate': 0.08,\n",
              "  'down_payment': 80000.0,\n",
              "  'emi': 23295},\n",
              " {'amount': 3000000.0,\n",
              "  'duration': 180.0,\n",
              "  'rate': 0.1,\n",
              "  'down_payment': 120000.0,\n",
              "  'emi': 30949},\n",
              " {'amount': 1500000.0,\n",
              "  'duration': 36.0,\n",
              "  'rate': 0.09,\n",
              "  'down_payment': 50000.0,\n",
              "  'emi': 46110},\n",
              " {'amount': 750000.0,\n",
              "  'duration': 24.0,\n",
              "  'rate': 0.08,\n",
              "  'down_payment': 30000.0,\n",
              "  'emi': 32564},\n",
              " {'amount': 200000.0,\n",
              "  'duration': 18.0,\n",
              "  'rate': 0.1,\n",
              "  'down_payment': 25000.0,\n",
              "  'emi': 10510}]"
            ]
          },
          "metadata": {},
          "execution_count": 91
        }
      ]
    },
    {
      "cell_type": "code",
      "source": [
        "def compute_emis(loans):\n",
        "    for loan in loans:\n",
        "        loan['emi'] = loan_emi(loan ['amount'],\n",
        "                  loan['duration'],\n",
        "                  loan['rate']/12,\n",
        "                  loan ['down_payment'])"
      ],
      "metadata": {
        "id": "5ADvbYerWIgS"
      },
      "execution_count": 93,
      "outputs": []
    },
    {
      "cell_type": "code",
      "source": [
        "loan2= read_csv('data/loan2.txt')\n"
      ],
      "metadata": {
        "id": "0zv5RKjzW23L"
      },
      "execution_count": 94,
      "outputs": []
    },
    {
      "cell_type": "code",
      "source": [
        "compute_emis(loan2)"
      ],
      "metadata": {
        "id": "9N9nD189XCv4"
      },
      "execution_count": 96,
      "outputs": []
    },
    {
      "cell_type": "code",
      "source": [
        "loan2"
      ],
      "metadata": {
        "colab": {
          "base_uri": "https://localhost:8080/"
        },
        "id": "3gh0SK43XUeo",
        "outputId": "3b2e21ea-8179-4da6-fb43-01392f69b4b5"
      },
      "execution_count": 97,
      "outputs": [
        {
          "output_type": "execute_result",
          "data": {
            "text/plain": [
              "[{'amount': 500000.0,\n",
              "  'duration': 60.0,\n",
              "  'rate': 0.05,\n",
              "  'down_payment': 30000.0,\n",
              "  'emi': 8870},\n",
              " {'amount': 1000000.0,\n",
              "  'duration': 72.0,\n",
              "  'rate': 0.07,\n",
              "  'down_payment': 40000.0,\n",
              "  'emi': 16368},\n",
              " {'amount': 1200000.0,\n",
              "  'duration': 84.0,\n",
              "  'rate': 0.06,\n",
              "  'down_payment': 60000.0,\n",
              "  'emi': 16654},\n",
              " {'amount': 2000000.0,\n",
              "  'duration': 120.0,\n",
              "  'rate': 0.08,\n",
              "  'down_payment': 80000.0,\n",
              "  'emi': 23295},\n",
              " {'amount': 3000000.0,\n",
              "  'duration': 180.0,\n",
              "  'rate': 0.1,\n",
              "  'down_payment': 120000.0,\n",
              "  'emi': 30949},\n",
              " {'amount': 1500000.0,\n",
              "  'duration': 36.0,\n",
              "  'rate': 0.09,\n",
              "  'down_payment': 50000.0,\n",
              "  'emi': 46110},\n",
              " {'amount': 750000.0,\n",
              "  'duration': 24.0,\n",
              "  'rate': 0.08,\n",
              "  'down_payment': 30000.0,\n",
              "  'emi': 32564},\n",
              " {'amount': 200000.0,\n",
              "  'duration': 18.0,\n",
              "  'rate': 0.1,\n",
              "  'down_payment': 25000.0,\n",
              "  'emi': 10510}]"
            ]
          },
          "metadata": {},
          "execution_count": 97
        }
      ]
    },
    {
      "cell_type": "code",
      "source": [
        "with open('data/emis2.txt', 'w') as f:\n",
        "    for loan in loan2:\n",
        "       f.write('{},{},{},{},{}\\n'.format(\n",
        "            loan ['amount'],\n",
        "            loan['duration'],\n",
        "            loan['rate'],\n",
        "            loan['down_payment'],\n",
        "            loan['emi']))"
      ],
      "metadata": {
        "id": "q7tX2u3kXYs9"
      },
      "execution_count": 99,
      "outputs": []
    },
    {
      "cell_type": "code",
      "source": [
        "os.listdir('data')"
      ],
      "metadata": {
        "colab": {
          "base_uri": "https://localhost:8080/"
        },
        "id": "eAvsZ98qYfnQ",
        "outputId": "bd36aad7-7975-4a61-f445-8a739226018b"
      },
      "execution_count": 100,
      "outputs": [
        {
          "output_type": "execute_result",
          "data": {
            "text/plain": [
              "['loan2.txt', 'emis2.txt', 'loan1.txt', 'loan3.txt']"
            ]
          },
          "metadata": {},
          "execution_count": 100
        }
      ]
    },
    {
      "cell_type": "code",
      "source": [
        "with open('data/emis2.txt', 'r') as f:\n",
        "    print(f.read())\n",
        ""
      ],
      "metadata": {
        "colab": {
          "base_uri": "https://localhost:8080/"
        },
        "id": "44juzfgsYjuQ",
        "outputId": "5da71a62-009a-4ae8-a583-5ffad95701d3"
      },
      "execution_count": 102,
      "outputs": [
        {
          "output_type": "stream",
          "name": "stdout",
          "text": [
            "500000.0,60.0,0.05,30000.0,8870\n",
            "1000000.0,72.0,0.07,40000.0,16368\n",
            "1200000.0,84.0,0.06,60000.0,16654\n",
            "2000000.0,120.0,0.08,80000.0,23295\n",
            "3000000.0,180.0,0.1,120000.0,30949\n",
            "1500000.0,36.0,0.09,50000.0,46110\n",
            "750000.0,24.0,0.08,30000.0,32564\n",
            "200000.0,18.0,0.1,25000.0,10510\n",
            "\n"
          ]
        }
      ]
    },
    {
      "cell_type": "code",
      "source": [
        "def write_csv(items, path):\n",
        "    #Open the file in write mode with open (path, 'w') as f:\n",
        "    with open(path, 'w') as f:\n",
        "        #Return if there's nothing to write\n",
        "        if len(items) == 0:\n",
        "            return\n",
        "        #Write the headers in the first line\n",
        "        headers = list(items[0].keys())\n",
        "        f.write(','.join(headers) + '\\n')\n",
        "        #Write one item per line\n",
        "        for item in items:\n",
        "            values = []\n",
        "            for header in headers:\n",
        "                values.append(str(item.get(header, \"\")))\n",
        "            f.write(','.join(values) + \"\\n\")\n"
      ],
      "metadata": {
        "id": "6khdok0wZwN4"
      },
      "execution_count": 103,
      "outputs": []
    },
    {
      "cell_type": "code",
      "source": [
        "loan3 = read_csv('data/loan3.txt')"
      ],
      "metadata": {
        "id": "5BDORGxOas32"
      },
      "execution_count": 105,
      "outputs": []
    },
    {
      "cell_type": "code",
      "source": [
        "compute_emis(loan3)"
      ],
      "metadata": {
        "id": "VRIKf3saa9gY"
      },
      "execution_count": 106,
      "outputs": []
    },
    {
      "cell_type": "code",
      "source": [
        "write_csv(loan3, 'data/emis3.txt')"
      ],
      "metadata": {
        "id": "Kn4MOEm_a_gm"
      },
      "execution_count": 108,
      "outputs": []
    },
    {
      "cell_type": "code",
      "source": [
        "with open('data/emis3.txt', 'r') as f:\n",
        "    print(f.read())"
      ],
      "metadata": {
        "colab": {
          "base_uri": "https://localhost:8080/"
        },
        "id": "5NtG81vWbWMS",
        "outputId": "ec35d777-2726-4dd3-fc96-357ea363515e"
      },
      "execution_count": 109,
      "outputs": [
        {
          "output_type": "stream",
          "name": "stdout",
          "text": [
            "amount,duration,rate,down_payment,emi\n",
            "800000.0,36.0,0.07,25000.0,23930\n",
            "250000.0,24.0,0.06,20000.0,10194\n",
            "500000.0,48.0,0.05,15000.0,11170\n",
            "1000000.0,120.0,0.09,40000.0,12161\n",
            "700000.0,72.0,0.08,30000.0,11748\n",
            "1500000.0,96.0,0.1,50000.0,22003\n",
            "850000.0,36.0,0.08,27000.0,25790\n",
            "450000.0,60.0,0.07,22000.0,8475\n",
            "\n"
          ]
        }
      ]
    },
    {
      "cell_type": "code",
      "source": [
        "for i in range(1,4):\n",
        "   loans =read_csv('data/loan{}.txt'.format(i))\n",
        "   compute_emis (loans)\n",
        "   write_csv(loans, 'data/emis{}.txt'.format(i))\n"
      ],
      "metadata": {
        "id": "M6eao0MZber_"
      },
      "execution_count": 113,
      "outputs": []
    },
    {
      "cell_type": "code",
      "source": [
        "os.listdir('data')"
      ],
      "metadata": {
        "colab": {
          "base_uri": "https://localhost:8080/"
        },
        "id": "xZJQZhigb8W2",
        "outputId": "125f5e06-ddb6-4c26-bf62-ce9303d89deb"
      },
      "execution_count": 114,
      "outputs": [
        {
          "output_type": "execute_result",
          "data": {
            "text/plain": [
              "['emis1.txt', 'loan2.txt', 'emis2.txt', 'emis3.txt', 'loan1.txt', 'loan3.txt']"
            ]
          },
          "metadata": {},
          "execution_count": 114
        }
      ]
    }
  ]
}