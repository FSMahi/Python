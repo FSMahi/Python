{
  "nbformat": 4,
  "nbformat_minor": 0,
  "metadata": {
    "colab": {
      "provenance": [],
      "authorship_tag": "ABX9TyPhMjg578pQgSyDgcQtQmC+",
      "include_colab_link": true
    },
    "kernelspec": {
      "name": "python3",
      "display_name": "Python 3"
    },
    "language_info": {
      "name": "python"
    }
  },
  "cells": [
    {
      "cell_type": "markdown",
      "metadata": {
        "id": "view-in-github",
        "colab_type": "text"
      },
      "source": [
        "<a href=\"https://colab.research.google.com/github/FSMahi/Python-for-Data-analysis/blob/main/Weather_Analysis_Using_Request_module(API).ipynb\" target=\"_parent\"><img src=\"https://colab.research.google.com/assets/colab-badge.svg\" alt=\"Open In Colab\"/></a>"
      ]
    },
    {
      "cell_type": "markdown",
      "source": [
        "#**This project uses the free Open-Meteo API to fetch a 10-day weather forecast for Dhaka, processes the data using Pandas, performs cleaning, aggregation, and visualization, and stores it in a CSV format for future analysis.**\n",
        " 📌 Features\n",
        "  \n",
        "  --Fetch 10-day forecast (temperature, precipitation, wind speed, humidity)\n",
        "\n",
        "  --Clean and transform the weather data\n",
        "\n",
        "  --Save to .json and .csv formats\n",
        "\n",
        "  --Analyzing Weather with Aggregation\n",
        "  \n",
        "  --Visualize key metrics with plots (line chart, bar chart)"
      ],
      "metadata": {
        "id": "etlt8axoSfFr"
      }
    },
    {
      "cell_type": "markdown",
      "source": [
        "# Imprtorting Module"
      ],
      "metadata": {
        "id": "inoSEkfA9NEA"
      }
    },
    {
      "cell_type": "code",
      "source": [
        "import requests\n",
        "import json\n",
        "import csv\n",
        "import pandas as pd\n"
      ],
      "metadata": {
        "id": "urHg_II69Tge"
      },
      "execution_count": null,
      "outputs": []
    },
    {
      "cell_type": "markdown",
      "source": [
        "# Fetch Weather Forecast Data"
      ],
      "metadata": {
        "id": "yFFdT-_WQ0Gm"
      }
    },
    {
      "cell_type": "code",
      "source": [
        "import requests\n",
        "import pandas as pd\n",
        "import json\n",
        "\n",
        "# API URL\n",
        "url = \"https://api.open-meteo.com/v1/forecast\"\n",
        "\n",
        "# Updated Parameters for 10-day forecast with more metrics\n",
        "params = {\n",
        "    \"latitude\": 23.8041,\n",
        "    \"longitude\": 90.4152,\n",
        "    \"daily\": [\n",
        "        \"temperature_2m_max\",\n",
        "        \"temperature_2m_min\",\n",
        "        \"precipitation_sum\",\n",
        "        \"windspeed_10m_max\",\n",
        "        \"relative_humidity_2m_max\",\n",
        "        \"weathercode\"\n",
        "    ],\n",
        "    \"timezone\": \"Asia/Dhaka\",\n",
        "    \"forecast_days\": 10\n",
        "}\n",
        "\n",
        "# Request data\n",
        "response = requests.get(url, params=params)\n",
        "\n",
        "# Check and process\n",
        "if response.status_code == 200:\n",
        "    data = response.json()\n",
        "\n",
        "    # Save full response to JSON file\n",
        "    with open(\"dhaka_10day_forecast.json\", \"w\") as f:\n",
        "        json.dump(data, f, indent=4)\n",
        "        print(\"✅ Saved to dhaka_10day_forecast.json\")\n",
        "\n",
        "    # Optional: Display summary of dates and conditions\n",
        "    print(\"📅 Dates:\", data['daily']['time'])\n",
        "    print(\"🌤️ Weather Codes:\", data['daily']['weathercode'])\n",
        "else:\n",
        "    print(\"❌ Error fetching forecast:\", response.status_code)\n"
      ],
      "metadata": {
        "colab": {
          "base_uri": "https://localhost:8080/"
        },
        "id": "ah1-GqUF9TwE",
        "outputId": "1d0d9a94-2674-4c82-bed1-8a12058081f9"
      },
      "execution_count": null,
      "outputs": [
        {
          "output_type": "stream",
          "name": "stdout",
          "text": [
            "✅ Saved to dhaka_10day_forecast.json\n",
            "📅 Dates: ['2025-05-14', '2025-05-15', '2025-05-16', '2025-05-17', '2025-05-18', '2025-05-19', '2025-05-20', '2025-05-21', '2025-05-22', '2025-05-23']\n",
            "🌤️ Weather Codes: [80, 80, 95, 80, 80, 96, 95, 51, 51, 3]\n"
          ]
        }
      ]
    },
    {
      "cell_type": "markdown",
      "source": [
        "# Convert JSON to DataFrame"
      ],
      "metadata": {
        "id": "kEzI65JKQ-Fo"
      }
    },
    {
      "cell_type": "code",
      "source": [
        "import json\n",
        "import pandas as pd\n",
        "\n",
        "# Step 1: Load the saved JSON file\n",
        "with open(\"dhaka_10day_forecast.json\", \"r\") as f:\n",
        "    data = json.load(f)\n",
        "\n",
        "# Step 2: Extract 'daily' section\n",
        "daily_data = data[\"daily\"]\n",
        "\n",
        "# Step 3: Convert to DataFrame\n",
        "df = pd.DataFrame(daily_data)\n",
        "\n",
        "# Optional: Rename columns for clarity\n",
        "df.rename(columns={\n",
        "    \"time\": \"Date\",\n",
        "    \"temperature_2m_max\": \"Max Temp (°C)\",\n",
        "    \"temperature_2m_min\": \"Min Temp (°C)\",\n",
        "    \"precipitation_sum\": \"Precipitation (mm)\",\n",
        "    \"windspeed_10m_max\": \"Max Wind Speed (km/h)\",\n",
        "    \"relative_humidity_2m_max\": \"Max Humidity (%)\",\n",
        "    \"weathercode\": \"Weather Code\"\n",
        "}, inplace=True)\n",
        "\n",
        "# Step 4: Show the DataFrame\n",
        "print(\"📊 10-Day Weather Forecast for Dhaka:\")\n",
        "print(df)\n"
      ],
      "metadata": {
        "colab": {
          "base_uri": "https://localhost:8080/"
        },
        "id": "7HZK59a39T1X",
        "outputId": "22a3d2fc-96aa-4126-ee2a-c561fbd04fcb"
      },
      "execution_count": null,
      "outputs": [
        {
          "output_type": "stream",
          "name": "stdout",
          "text": [
            "📊 10-Day Weather Forecast for Dhaka:\n",
            "         Date  Max Temp (°C)  Min Temp (°C)  Precipitation (mm)  \\\n",
            "0  2025-05-14           37.6           27.8                 2.9   \n",
            "1  2025-05-15           36.9           27.9                 2.4   \n",
            "2  2025-05-16           35.4           27.8                 6.8   \n",
            "3  2025-05-17           36.1           27.6                 0.6   \n",
            "4  2025-05-18           35.5           27.6                 7.6   \n",
            "5  2025-05-19           35.8           27.2                12.9   \n",
            "6  2025-05-20           34.1           27.4                16.4   \n",
            "7  2025-05-21           35.7           27.0                 6.0   \n",
            "8  2025-05-22           34.7           26.4                 2.7   \n",
            "9  2025-05-23           35.7           27.5                 0.0   \n",
            "\n",
            "   Max Wind Speed (km/h)  Max Humidity (%)  Weather Code  \n",
            "0                   11.7                91            80  \n",
            "1                   11.5                85            80  \n",
            "2                   10.5                89            95  \n",
            "3                   10.0                90            80  \n",
            "4                    7.1                88            80  \n",
            "5                    8.3                91            96  \n",
            "6                    8.8                91            95  \n",
            "7                   10.2                92            51  \n",
            "8                   15.5                91            51  \n",
            "9                   17.4                88             3  \n"
          ]
        }
      ]
    },
    {
      "cell_type": "markdown",
      "source": [
        "# Save to CSV"
      ],
      "metadata": {
        "id": "9Gj5Z2WWREmX"
      }
    },
    {
      "cell_type": "code",
      "source": [
        "# Save the DataFrame to a CSV file\n",
        "df.to_csv(\"dhaka_10day_forecast.csv\", index=False)\n",
        "\n",
        "print(\"📁 Saved DataFrame to 'dhaka_10day_forecast.csv'\")\n"
      ],
      "metadata": {
        "colab": {
          "base_uri": "https://localhost:8080/"
        },
        "id": "nrqVZgZo9T5B",
        "outputId": "e27fa3c1-006d-41a0-8261-88ba275fc952"
      },
      "execution_count": null,
      "outputs": [
        {
          "output_type": "stream",
          "name": "stdout",
          "text": [
            "📁 Saved DataFrame to 'dhaka_10day_forecast.csv'\n"
          ]
        }
      ]
    },
    {
      "cell_type": "markdown",
      "source": [
        "**Read CSV as data frame**"
      ],
      "metadata": {
        "id": "8orLWY02RJbi"
      }
    },
    {
      "cell_type": "code",
      "source": [
        "forecast_df = pd.read_csv('dhaka_10day_forecast.csv')\n",
        "forecast_df.head()"
      ],
      "metadata": {
        "colab": {
          "base_uri": "https://localhost:8080/",
          "height": 206
        },
        "id": "pWNSUTIx9T8a",
        "outputId": "5933a98b-fc97-4493-9d26-5250995a3d98"
      },
      "execution_count": null,
      "outputs": [
        {
          "output_type": "execute_result",
          "data": {
            "text/plain": [
              "         Date  Max Temp (°C)  Min Temp (°C)  Precipitation (mm)  \\\n",
              "0  2025-05-14           37.6           27.8                 2.9   \n",
              "1  2025-05-15           36.9           27.9                 2.4   \n",
              "2  2025-05-16           35.4           27.8                 6.8   \n",
              "3  2025-05-17           36.1           27.6                 0.6   \n",
              "4  2025-05-18           35.5           27.6                 7.6   \n",
              "\n",
              "   Max Wind Speed (km/h)  Max Humidity (%)  Weather Code  \n",
              "0                   11.7                91            80  \n",
              "1                   11.5                85            80  \n",
              "2                   10.5                89            95  \n",
              "3                   10.0                90            80  \n",
              "4                    7.1                88            80  "
            ],
            "text/html": [
              "\n",
              "  <div id=\"df-f15a2b21-019f-475c-8b64-e5749558b56b\" class=\"colab-df-container\">\n",
              "    <div>\n",
              "<style scoped>\n",
              "    .dataframe tbody tr th:only-of-type {\n",
              "        vertical-align: middle;\n",
              "    }\n",
              "\n",
              "    .dataframe tbody tr th {\n",
              "        vertical-align: top;\n",
              "    }\n",
              "\n",
              "    .dataframe thead th {\n",
              "        text-align: right;\n",
              "    }\n",
              "</style>\n",
              "<table border=\"1\" class=\"dataframe\">\n",
              "  <thead>\n",
              "    <tr style=\"text-align: right;\">\n",
              "      <th></th>\n",
              "      <th>Date</th>\n",
              "      <th>Max Temp (°C)</th>\n",
              "      <th>Min Temp (°C)</th>\n",
              "      <th>Precipitation (mm)</th>\n",
              "      <th>Max Wind Speed (km/h)</th>\n",
              "      <th>Max Humidity (%)</th>\n",
              "      <th>Weather Code</th>\n",
              "    </tr>\n",
              "  </thead>\n",
              "  <tbody>\n",
              "    <tr>\n",
              "      <th>0</th>\n",
              "      <td>2025-05-14</td>\n",
              "      <td>37.6</td>\n",
              "      <td>27.8</td>\n",
              "      <td>2.9</td>\n",
              "      <td>11.7</td>\n",
              "      <td>91</td>\n",
              "      <td>80</td>\n",
              "    </tr>\n",
              "    <tr>\n",
              "      <th>1</th>\n",
              "      <td>2025-05-15</td>\n",
              "      <td>36.9</td>\n",
              "      <td>27.9</td>\n",
              "      <td>2.4</td>\n",
              "      <td>11.5</td>\n",
              "      <td>85</td>\n",
              "      <td>80</td>\n",
              "    </tr>\n",
              "    <tr>\n",
              "      <th>2</th>\n",
              "      <td>2025-05-16</td>\n",
              "      <td>35.4</td>\n",
              "      <td>27.8</td>\n",
              "      <td>6.8</td>\n",
              "      <td>10.5</td>\n",
              "      <td>89</td>\n",
              "      <td>95</td>\n",
              "    </tr>\n",
              "    <tr>\n",
              "      <th>3</th>\n",
              "      <td>2025-05-17</td>\n",
              "      <td>36.1</td>\n",
              "      <td>27.6</td>\n",
              "      <td>0.6</td>\n",
              "      <td>10.0</td>\n",
              "      <td>90</td>\n",
              "      <td>80</td>\n",
              "    </tr>\n",
              "    <tr>\n",
              "      <th>4</th>\n",
              "      <td>2025-05-18</td>\n",
              "      <td>35.5</td>\n",
              "      <td>27.6</td>\n",
              "      <td>7.6</td>\n",
              "      <td>7.1</td>\n",
              "      <td>88</td>\n",
              "      <td>80</td>\n",
              "    </tr>\n",
              "  </tbody>\n",
              "</table>\n",
              "</div>\n",
              "    <div class=\"colab-df-buttons\">\n",
              "\n",
              "  <div class=\"colab-df-container\">\n",
              "    <button class=\"colab-df-convert\" onclick=\"convertToInteractive('df-f15a2b21-019f-475c-8b64-e5749558b56b')\"\n",
              "            title=\"Convert this dataframe to an interactive table.\"\n",
              "            style=\"display:none;\">\n",
              "\n",
              "  <svg xmlns=\"http://www.w3.org/2000/svg\" height=\"24px\" viewBox=\"0 -960 960 960\">\n",
              "    <path d=\"M120-120v-720h720v720H120Zm60-500h600v-160H180v160Zm220 220h160v-160H400v160Zm0 220h160v-160H400v160ZM180-400h160v-160H180v160Zm440 0h160v-160H620v160ZM180-180h160v-160H180v160Zm440 0h160v-160H620v160Z\"/>\n",
              "  </svg>\n",
              "    </button>\n",
              "\n",
              "  <style>\n",
              "    .colab-df-container {\n",
              "      display:flex;\n",
              "      gap: 12px;\n",
              "    }\n",
              "\n",
              "    .colab-df-convert {\n",
              "      background-color: #E8F0FE;\n",
              "      border: none;\n",
              "      border-radius: 50%;\n",
              "      cursor: pointer;\n",
              "      display: none;\n",
              "      fill: #1967D2;\n",
              "      height: 32px;\n",
              "      padding: 0 0 0 0;\n",
              "      width: 32px;\n",
              "    }\n",
              "\n",
              "    .colab-df-convert:hover {\n",
              "      background-color: #E2EBFA;\n",
              "      box-shadow: 0px 1px 2px rgba(60, 64, 67, 0.3), 0px 1px 3px 1px rgba(60, 64, 67, 0.15);\n",
              "      fill: #174EA6;\n",
              "    }\n",
              "\n",
              "    .colab-df-buttons div {\n",
              "      margin-bottom: 4px;\n",
              "    }\n",
              "\n",
              "    [theme=dark] .colab-df-convert {\n",
              "      background-color: #3B4455;\n",
              "      fill: #D2E3FC;\n",
              "    }\n",
              "\n",
              "    [theme=dark] .colab-df-convert:hover {\n",
              "      background-color: #434B5C;\n",
              "      box-shadow: 0px 1px 3px 1px rgba(0, 0, 0, 0.15);\n",
              "      filter: drop-shadow(0px 1px 2px rgba(0, 0, 0, 0.3));\n",
              "      fill: #FFFFFF;\n",
              "    }\n",
              "  </style>\n",
              "\n",
              "    <script>\n",
              "      const buttonEl =\n",
              "        document.querySelector('#df-f15a2b21-019f-475c-8b64-e5749558b56b button.colab-df-convert');\n",
              "      buttonEl.style.display =\n",
              "        google.colab.kernel.accessAllowed ? 'block' : 'none';\n",
              "\n",
              "      async function convertToInteractive(key) {\n",
              "        const element = document.querySelector('#df-f15a2b21-019f-475c-8b64-e5749558b56b');\n",
              "        const dataTable =\n",
              "          await google.colab.kernel.invokeFunction('convertToInteractive',\n",
              "                                                    [key], {});\n",
              "        if (!dataTable) return;\n",
              "\n",
              "        const docLinkHtml = 'Like what you see? Visit the ' +\n",
              "          '<a target=\"_blank\" href=https://colab.research.google.com/notebooks/data_table.ipynb>data table notebook</a>'\n",
              "          + ' to learn more about interactive tables.';\n",
              "        element.innerHTML = '';\n",
              "        dataTable['output_type'] = 'display_data';\n",
              "        await google.colab.output.renderOutput(dataTable, element);\n",
              "        const docLink = document.createElement('div');\n",
              "        docLink.innerHTML = docLinkHtml;\n",
              "        element.appendChild(docLink);\n",
              "      }\n",
              "    </script>\n",
              "  </div>\n",
              "\n",
              "\n",
              "    <div id=\"df-23a1b264-8b94-4fde-994e-34ea811c6a8f\">\n",
              "      <button class=\"colab-df-quickchart\" onclick=\"quickchart('df-23a1b264-8b94-4fde-994e-34ea811c6a8f')\"\n",
              "                title=\"Suggest charts\"\n",
              "                style=\"display:none;\">\n",
              "\n",
              "<svg xmlns=\"http://www.w3.org/2000/svg\" height=\"24px\"viewBox=\"0 0 24 24\"\n",
              "     width=\"24px\">\n",
              "    <g>\n",
              "        <path d=\"M19 3H5c-1.1 0-2 .9-2 2v14c0 1.1.9 2 2 2h14c1.1 0 2-.9 2-2V5c0-1.1-.9-2-2-2zM9 17H7v-7h2v7zm4 0h-2V7h2v10zm4 0h-2v-4h2v4z\"/>\n",
              "    </g>\n",
              "</svg>\n",
              "      </button>\n",
              "\n",
              "<style>\n",
              "  .colab-df-quickchart {\n",
              "      --bg-color: #E8F0FE;\n",
              "      --fill-color: #1967D2;\n",
              "      --hover-bg-color: #E2EBFA;\n",
              "      --hover-fill-color: #174EA6;\n",
              "      --disabled-fill-color: #AAA;\n",
              "      --disabled-bg-color: #DDD;\n",
              "  }\n",
              "\n",
              "  [theme=dark] .colab-df-quickchart {\n",
              "      --bg-color: #3B4455;\n",
              "      --fill-color: #D2E3FC;\n",
              "      --hover-bg-color: #434B5C;\n",
              "      --hover-fill-color: #FFFFFF;\n",
              "      --disabled-bg-color: #3B4455;\n",
              "      --disabled-fill-color: #666;\n",
              "  }\n",
              "\n",
              "  .colab-df-quickchart {\n",
              "    background-color: var(--bg-color);\n",
              "    border: none;\n",
              "    border-radius: 50%;\n",
              "    cursor: pointer;\n",
              "    display: none;\n",
              "    fill: var(--fill-color);\n",
              "    height: 32px;\n",
              "    padding: 0;\n",
              "    width: 32px;\n",
              "  }\n",
              "\n",
              "  .colab-df-quickchart:hover {\n",
              "    background-color: var(--hover-bg-color);\n",
              "    box-shadow: 0 1px 2px rgba(60, 64, 67, 0.3), 0 1px 3px 1px rgba(60, 64, 67, 0.15);\n",
              "    fill: var(--button-hover-fill-color);\n",
              "  }\n",
              "\n",
              "  .colab-df-quickchart-complete:disabled,\n",
              "  .colab-df-quickchart-complete:disabled:hover {\n",
              "    background-color: var(--disabled-bg-color);\n",
              "    fill: var(--disabled-fill-color);\n",
              "    box-shadow: none;\n",
              "  }\n",
              "\n",
              "  .colab-df-spinner {\n",
              "    border: 2px solid var(--fill-color);\n",
              "    border-color: transparent;\n",
              "    border-bottom-color: var(--fill-color);\n",
              "    animation:\n",
              "      spin 1s steps(1) infinite;\n",
              "  }\n",
              "\n",
              "  @keyframes spin {\n",
              "    0% {\n",
              "      border-color: transparent;\n",
              "      border-bottom-color: var(--fill-color);\n",
              "      border-left-color: var(--fill-color);\n",
              "    }\n",
              "    20% {\n",
              "      border-color: transparent;\n",
              "      border-left-color: var(--fill-color);\n",
              "      border-top-color: var(--fill-color);\n",
              "    }\n",
              "    30% {\n",
              "      border-color: transparent;\n",
              "      border-left-color: var(--fill-color);\n",
              "      border-top-color: var(--fill-color);\n",
              "      border-right-color: var(--fill-color);\n",
              "    }\n",
              "    40% {\n",
              "      border-color: transparent;\n",
              "      border-right-color: var(--fill-color);\n",
              "      border-top-color: var(--fill-color);\n",
              "    }\n",
              "    60% {\n",
              "      border-color: transparent;\n",
              "      border-right-color: var(--fill-color);\n",
              "    }\n",
              "    80% {\n",
              "      border-color: transparent;\n",
              "      border-right-color: var(--fill-color);\n",
              "      border-bottom-color: var(--fill-color);\n",
              "    }\n",
              "    90% {\n",
              "      border-color: transparent;\n",
              "      border-bottom-color: var(--fill-color);\n",
              "    }\n",
              "  }\n",
              "</style>\n",
              "\n",
              "      <script>\n",
              "        async function quickchart(key) {\n",
              "          const quickchartButtonEl =\n",
              "            document.querySelector('#' + key + ' button');\n",
              "          quickchartButtonEl.disabled = true;  // To prevent multiple clicks.\n",
              "          quickchartButtonEl.classList.add('colab-df-spinner');\n",
              "          try {\n",
              "            const charts = await google.colab.kernel.invokeFunction(\n",
              "                'suggestCharts', [key], {});\n",
              "          } catch (error) {\n",
              "            console.error('Error during call to suggestCharts:', error);\n",
              "          }\n",
              "          quickchartButtonEl.classList.remove('colab-df-spinner');\n",
              "          quickchartButtonEl.classList.add('colab-df-quickchart-complete');\n",
              "        }\n",
              "        (() => {\n",
              "          let quickchartButtonEl =\n",
              "            document.querySelector('#df-23a1b264-8b94-4fde-994e-34ea811c6a8f button');\n",
              "          quickchartButtonEl.style.display =\n",
              "            google.colab.kernel.accessAllowed ? 'block' : 'none';\n",
              "        })();\n",
              "      </script>\n",
              "    </div>\n",
              "\n",
              "    </div>\n",
              "  </div>\n"
            ],
            "application/vnd.google.colaboratory.intrinsic+json": {
              "type": "dataframe",
              "variable_name": "forecast_df",
              "summary": "{\n  \"name\": \"forecast_df\",\n  \"rows\": 10,\n  \"fields\": [\n    {\n      \"column\": \"Date\",\n      \"properties\": {\n        \"dtype\": \"object\",\n        \"num_unique_values\": 10,\n        \"samples\": [\n          \"2025-05-22\",\n          \"2025-05-15\",\n          \"2025-05-19\"\n        ],\n        \"semantic_type\": \"\",\n        \"description\": \"\"\n      }\n    },\n    {\n      \"column\": \"Max Temp (\\u00b0C)\",\n      \"properties\": {\n        \"dtype\": \"number\",\n        \"std\": 0.9935905707192583,\n        \"min\": 34.1,\n        \"max\": 37.6,\n        \"num_unique_values\": 9,\n        \"samples\": [\n          35.7,\n          36.9,\n          35.8\n        ],\n        \"semantic_type\": \"\",\n        \"description\": \"\"\n      }\n    },\n    {\n      \"column\": \"Min Temp (\\u00b0C)\",\n      \"properties\": {\n        \"dtype\": \"number\",\n        \"std\": 0.45411696975803784,\n        \"min\": 26.4,\n        \"max\": 27.9,\n        \"num_unique_values\": 8,\n        \"samples\": [\n          27.9,\n          27.0,\n          27.8\n        ],\n        \"semantic_type\": \"\",\n        \"description\": \"\"\n      }\n    },\n    {\n      \"column\": \"Precipitation (mm)\",\n      \"properties\": {\n        \"dtype\": \"number\",\n        \"std\": 5.34686824225172,\n        \"min\": 0.0,\n        \"max\": 16.4,\n        \"num_unique_values\": 10,\n        \"samples\": [\n          2.7,\n          2.4,\n          12.9\n        ],\n        \"semantic_type\": \"\",\n        \"description\": \"\"\n      }\n    },\n    {\n      \"column\": \"Max Wind Speed (km/h)\",\n      \"properties\": {\n        \"dtype\": \"number\",\n        \"std\": 3.1811947441173727,\n        \"min\": 7.1,\n        \"max\": 17.4,\n        \"num_unique_values\": 10,\n        \"samples\": [\n          15.5,\n          11.5,\n          8.3\n        ],\n        \"semantic_type\": \"\",\n        \"description\": \"\"\n      }\n    },\n    {\n      \"column\": \"Max Humidity (%)\",\n      \"properties\": {\n        \"dtype\": \"number\",\n        \"std\": 2,\n        \"min\": 85,\n        \"max\": 92,\n        \"num_unique_values\": 6,\n        \"samples\": [\n          91,\n          85,\n          92\n        ],\n        \"semantic_type\": \"\",\n        \"description\": \"\"\n      }\n    },\n    {\n      \"column\": \"Weather Code\",\n      \"properties\": {\n        \"dtype\": \"number\",\n        \"std\": 28,\n        \"min\": 3,\n        \"max\": 96,\n        \"num_unique_values\": 5,\n        \"samples\": [\n          95,\n          3,\n          96\n        ],\n        \"semantic_type\": \"\",\n        \"description\": \"\"\n      }\n    }\n  ]\n}"
            }
          },
          "metadata": {},
          "execution_count": 70
        }
      ]
    },
    {
      "cell_type": "code",
      "source": [
        "type(forecast_df)"
      ],
      "metadata": {
        "colab": {
          "base_uri": "https://localhost:8080/",
          "height": 203
        },
        "id": "j045-Nr29UAE",
        "outputId": "634ffe42-f67a-44e5-f3d0-1dd5f53ceefb"
      },
      "execution_count": null,
      "outputs": [
        {
          "output_type": "execute_result",
          "data": {
            "text/plain": [
              "pandas.core.frame.DataFrame"
            ],
            "text/html": [
              "<div style=\"max-width:800px; border: 1px solid var(--colab-border-color);\"><style>\n",
              "      pre.function-repr-contents {\n",
              "        overflow-x: auto;\n",
              "        padding: 8px 12px;\n",
              "        max-height: 500px;\n",
              "      }\n",
              "\n",
              "      pre.function-repr-contents.function-repr-contents-collapsed {\n",
              "        cursor: pointer;\n",
              "        max-height: 100px;\n",
              "      }\n",
              "    </style>\n",
              "    <pre style=\"white-space: initial; background:\n",
              "         var(--colab-secondary-surface-color); padding: 8px 12px;\n",
              "         border-bottom: 1px solid var(--colab-border-color);\"><b>pandas.core.frame.DataFrame</b><br/>def __init__(data=None, index: Axes | None=None, columns: Axes | None=None, dtype: Dtype | None=None, copy: bool | None=None) -&gt; None</pre><pre class=\"function-repr-contents function-repr-contents-collapsed\" style=\"\"><a class=\"filepath\" style=\"display:none\" href=\"#\">/usr/local/lib/python3.11/dist-packages/pandas/core/frame.py</a>Two-dimensional, size-mutable, potentially heterogeneous tabular data.\n",
              "\n",
              "Data structure also contains labeled axes (rows and columns).\n",
              "Arithmetic operations align on both row and column labels. Can be\n",
              "thought of as a dict-like container for Series objects. The primary\n",
              "pandas data structure.\n",
              "\n",
              "Parameters\n",
              "----------\n",
              "data : ndarray (structured or homogeneous), Iterable, dict, or DataFrame\n",
              "    Dict can contain Series, arrays, constants, dataclass or list-like objects. If\n",
              "    data is a dict, column order follows insertion-order. If a dict contains Series\n",
              "    which have an index defined, it is aligned by its index. This alignment also\n",
              "    occurs if data is a Series or a DataFrame itself. Alignment is done on\n",
              "    Series/DataFrame inputs.\n",
              "\n",
              "    If data is a list of dicts, column order follows insertion-order.\n",
              "\n",
              "index : Index or array-like\n",
              "    Index to use for resulting frame. Will default to RangeIndex if\n",
              "    no indexing information part of input data and no index provided.\n",
              "columns : Index or array-like\n",
              "    Column labels to use for resulting frame when data does not have them,\n",
              "    defaulting to RangeIndex(0, 1, 2, ..., n). If data contains column labels,\n",
              "    will perform column selection instead.\n",
              "dtype : dtype, default None\n",
              "    Data type to force. Only a single dtype is allowed. If None, infer.\n",
              "copy : bool or None, default None\n",
              "    Copy data from inputs.\n",
              "    For dict data, the default of None behaves like ``copy=True``.  For DataFrame\n",
              "    or 2d ndarray input, the default of None behaves like ``copy=False``.\n",
              "    If data is a dict containing one or more Series (possibly of different dtypes),\n",
              "    ``copy=False`` will ensure that these inputs are not copied.\n",
              "\n",
              "    .. versionchanged:: 1.3.0\n",
              "\n",
              "See Also\n",
              "--------\n",
              "DataFrame.from_records : Constructor from tuples, also record arrays.\n",
              "DataFrame.from_dict : From dicts of Series, arrays, or dicts.\n",
              "read_csv : Read a comma-separated values (csv) file into DataFrame.\n",
              "read_table : Read general delimited file into DataFrame.\n",
              "read_clipboard : Read text from clipboard into DataFrame.\n",
              "\n",
              "Notes\n",
              "-----\n",
              "Please reference the :ref:`User Guide &lt;basics.dataframe&gt;` for more information.\n",
              "\n",
              "Examples\n",
              "--------\n",
              "Constructing DataFrame from a dictionary.\n",
              "\n",
              "&gt;&gt;&gt; d = {&#x27;col1&#x27;: [1, 2], &#x27;col2&#x27;: [3, 4]}\n",
              "&gt;&gt;&gt; df = pd.DataFrame(data=d)\n",
              "&gt;&gt;&gt; df\n",
              "   col1  col2\n",
              "0     1     3\n",
              "1     2     4\n",
              "\n",
              "Notice that the inferred dtype is int64.\n",
              "\n",
              "&gt;&gt;&gt; df.dtypes\n",
              "col1    int64\n",
              "col2    int64\n",
              "dtype: object\n",
              "\n",
              "To enforce a single dtype:\n",
              "\n",
              "&gt;&gt;&gt; df = pd.DataFrame(data=d, dtype=np.int8)\n",
              "&gt;&gt;&gt; df.dtypes\n",
              "col1    int8\n",
              "col2    int8\n",
              "dtype: object\n",
              "\n",
              "Constructing DataFrame from a dictionary including Series:\n",
              "\n",
              "&gt;&gt;&gt; d = {&#x27;col1&#x27;: [0, 1, 2, 3], &#x27;col2&#x27;: pd.Series([2, 3], index=[2, 3])}\n",
              "&gt;&gt;&gt; pd.DataFrame(data=d, index=[0, 1, 2, 3])\n",
              "   col1  col2\n",
              "0     0   NaN\n",
              "1     1   NaN\n",
              "2     2   2.0\n",
              "3     3   3.0\n",
              "\n",
              "Constructing DataFrame from numpy ndarray:\n",
              "\n",
              "&gt;&gt;&gt; df2 = pd.DataFrame(np.array([[1, 2, 3], [4, 5, 6], [7, 8, 9]]),\n",
              "...                    columns=[&#x27;a&#x27;, &#x27;b&#x27;, &#x27;c&#x27;])\n",
              "&gt;&gt;&gt; df2\n",
              "   a  b  c\n",
              "0  1  2  3\n",
              "1  4  5  6\n",
              "2  7  8  9\n",
              "\n",
              "Constructing DataFrame from a numpy ndarray that has labeled columns:\n",
              "\n",
              "&gt;&gt;&gt; data = np.array([(1, 2, 3), (4, 5, 6), (7, 8, 9)],\n",
              "...                 dtype=[(&quot;a&quot;, &quot;i4&quot;), (&quot;b&quot;, &quot;i4&quot;), (&quot;c&quot;, &quot;i4&quot;)])\n",
              "&gt;&gt;&gt; df3 = pd.DataFrame(data, columns=[&#x27;c&#x27;, &#x27;a&#x27;])\n",
              "...\n",
              "&gt;&gt;&gt; df3\n",
              "   c  a\n",
              "0  3  1\n",
              "1  6  4\n",
              "2  9  7\n",
              "\n",
              "Constructing DataFrame from dataclass:\n",
              "\n",
              "&gt;&gt;&gt; from dataclasses import make_dataclass\n",
              "&gt;&gt;&gt; Point = make_dataclass(&quot;Point&quot;, [(&quot;x&quot;, int), (&quot;y&quot;, int)])\n",
              "&gt;&gt;&gt; pd.DataFrame([Point(0, 0), Point(0, 3), Point(2, 3)])\n",
              "   x  y\n",
              "0  0  0\n",
              "1  0  3\n",
              "2  2  3\n",
              "\n",
              "Constructing DataFrame from Series/DataFrame:\n",
              "\n",
              "&gt;&gt;&gt; ser = pd.Series([1, 2, 3], index=[&quot;a&quot;, &quot;b&quot;, &quot;c&quot;])\n",
              "&gt;&gt;&gt; df = pd.DataFrame(data=ser, index=[&quot;a&quot;, &quot;c&quot;])\n",
              "&gt;&gt;&gt; df\n",
              "   0\n",
              "a  1\n",
              "c  3\n",
              "\n",
              "&gt;&gt;&gt; df1 = pd.DataFrame([1, 2, 3], index=[&quot;a&quot;, &quot;b&quot;, &quot;c&quot;], columns=[&quot;x&quot;])\n",
              "&gt;&gt;&gt; df2 = pd.DataFrame(data=df1, index=[&quot;a&quot;, &quot;c&quot;])\n",
              "&gt;&gt;&gt; df2\n",
              "   x\n",
              "a  1\n",
              "c  3</pre>\n",
              "      <script>\n",
              "      if (google.colab.kernel.accessAllowed && google.colab.files && google.colab.files.view) {\n",
              "        for (const element of document.querySelectorAll('.filepath')) {\n",
              "          element.style.display = 'block'\n",
              "          element.onclick = (event) => {\n",
              "            event.preventDefault();\n",
              "            event.stopPropagation();\n",
              "            google.colab.files.view(element.textContent, 509);\n",
              "          };\n",
              "        }\n",
              "      }\n",
              "      for (const element of document.querySelectorAll('.function-repr-contents')) {\n",
              "        element.onclick = (event) => {\n",
              "          event.preventDefault();\n",
              "          event.stopPropagation();\n",
              "          element.classList.toggle('function-repr-contents-collapsed');\n",
              "        };\n",
              "      }\n",
              "      </script>\n",
              "      </div>"
            ]
          },
          "metadata": {},
          "execution_count": 9
        }
      ]
    },
    {
      "cell_type": "code",
      "source": [
        "forecast_df.info()"
      ],
      "metadata": {
        "colab": {
          "base_uri": "https://localhost:8080/"
        },
        "id": "W1dFJXJGCKEK",
        "outputId": "f075b05b-8108-4948-bdb9-70bacb7fbfe1"
      },
      "execution_count": null,
      "outputs": [
        {
          "output_type": "stream",
          "name": "stdout",
          "text": [
            "<class 'pandas.core.frame.DataFrame'>\n",
            "RangeIndex: 10 entries, 0 to 9\n",
            "Data columns (total 7 columns):\n",
            " #   Column                 Non-Null Count  Dtype  \n",
            "---  ------                 --------------  -----  \n",
            " 0   Date                   10 non-null     object \n",
            " 1   Max Temp (°C)          10 non-null     float64\n",
            " 2   Min Temp (°C)          10 non-null     float64\n",
            " 3   Precipitation (mm)     10 non-null     float64\n",
            " 4   Max Wind Speed (km/h)  10 non-null     float64\n",
            " 5   Max Humidity (%)       10 non-null     int64  \n",
            " 6   Weather Code           10 non-null     int64  \n",
            "dtypes: float64(4), int64(2), object(1)\n",
            "memory usage: 692.0+ bytes\n"
          ]
        }
      ]
    },
    {
      "cell_type": "markdown",
      "source": [
        "# Data Handling"
      ],
      "metadata": {
        "id": "cQIA3nU0RygJ"
      }
    },
    {
      "cell_type": "code",
      "source": [
        "forecast_df.describe()"
      ],
      "metadata": {
        "colab": {
          "base_uri": "https://localhost:8080/",
          "height": 300
        },
        "id": "xQ2i8ql3CKBO",
        "outputId": "f975579b-c4f0-4d40-a127-77e7f019696f"
      },
      "execution_count": null,
      "outputs": [
        {
          "output_type": "execute_result",
          "data": {
            "text/plain": [
              "       Max Temp (°C)  Min Temp (°C)  Precipitation (mm)  \\\n",
              "count      10.000000      10.000000           10.000000   \n",
              "mean       35.750000      27.420000            5.830000   \n",
              "std         0.993591       0.454117            5.346868   \n",
              "min        34.100000      26.400000            0.000000   \n",
              "25%        35.425000      27.250000            2.475000   \n",
              "50%        35.700000      27.550000            4.450000   \n",
              "75%        36.025000      27.750000            7.400000   \n",
              "max        37.600000      27.900000           16.400000   \n",
              "\n",
              "       Max Wind Speed (km/h)  Max Humidity (%)  Weather Code  \n",
              "count              10.000000           10.0000     10.000000  \n",
              "mean               11.100000           89.6000     71.100000  \n",
              "std                 3.181195            2.1187     28.915394  \n",
              "min                 7.100000           85.0000      3.000000  \n",
              "25%                 9.100000           88.2500     58.250000  \n",
              "50%                10.350000           90.5000     80.000000  \n",
              "75%                11.650000           91.0000     91.250000  \n",
              "max                17.400000           92.0000     96.000000  "
            ],
            "text/html": [
              "\n",
              "  <div id=\"df-3dc1f6e4-e2e8-4a1c-ac64-b7f88055406b\" class=\"colab-df-container\">\n",
              "    <div>\n",
              "<style scoped>\n",
              "    .dataframe tbody tr th:only-of-type {\n",
              "        vertical-align: middle;\n",
              "    }\n",
              "\n",
              "    .dataframe tbody tr th {\n",
              "        vertical-align: top;\n",
              "    }\n",
              "\n",
              "    .dataframe thead th {\n",
              "        text-align: right;\n",
              "    }\n",
              "</style>\n",
              "<table border=\"1\" class=\"dataframe\">\n",
              "  <thead>\n",
              "    <tr style=\"text-align: right;\">\n",
              "      <th></th>\n",
              "      <th>Max Temp (°C)</th>\n",
              "      <th>Min Temp (°C)</th>\n",
              "      <th>Precipitation (mm)</th>\n",
              "      <th>Max Wind Speed (km/h)</th>\n",
              "      <th>Max Humidity (%)</th>\n",
              "      <th>Weather Code</th>\n",
              "    </tr>\n",
              "  </thead>\n",
              "  <tbody>\n",
              "    <tr>\n",
              "      <th>count</th>\n",
              "      <td>10.000000</td>\n",
              "      <td>10.000000</td>\n",
              "      <td>10.000000</td>\n",
              "      <td>10.000000</td>\n",
              "      <td>10.0000</td>\n",
              "      <td>10.000000</td>\n",
              "    </tr>\n",
              "    <tr>\n",
              "      <th>mean</th>\n",
              "      <td>35.750000</td>\n",
              "      <td>27.420000</td>\n",
              "      <td>5.830000</td>\n",
              "      <td>11.100000</td>\n",
              "      <td>89.6000</td>\n",
              "      <td>71.100000</td>\n",
              "    </tr>\n",
              "    <tr>\n",
              "      <th>std</th>\n",
              "      <td>0.993591</td>\n",
              "      <td>0.454117</td>\n",
              "      <td>5.346868</td>\n",
              "      <td>3.181195</td>\n",
              "      <td>2.1187</td>\n",
              "      <td>28.915394</td>\n",
              "    </tr>\n",
              "    <tr>\n",
              "      <th>min</th>\n",
              "      <td>34.100000</td>\n",
              "      <td>26.400000</td>\n",
              "      <td>0.000000</td>\n",
              "      <td>7.100000</td>\n",
              "      <td>85.0000</td>\n",
              "      <td>3.000000</td>\n",
              "    </tr>\n",
              "    <tr>\n",
              "      <th>25%</th>\n",
              "      <td>35.425000</td>\n",
              "      <td>27.250000</td>\n",
              "      <td>2.475000</td>\n",
              "      <td>9.100000</td>\n",
              "      <td>88.2500</td>\n",
              "      <td>58.250000</td>\n",
              "    </tr>\n",
              "    <tr>\n",
              "      <th>50%</th>\n",
              "      <td>35.700000</td>\n",
              "      <td>27.550000</td>\n",
              "      <td>4.450000</td>\n",
              "      <td>10.350000</td>\n",
              "      <td>90.5000</td>\n",
              "      <td>80.000000</td>\n",
              "    </tr>\n",
              "    <tr>\n",
              "      <th>75%</th>\n",
              "      <td>36.025000</td>\n",
              "      <td>27.750000</td>\n",
              "      <td>7.400000</td>\n",
              "      <td>11.650000</td>\n",
              "      <td>91.0000</td>\n",
              "      <td>91.250000</td>\n",
              "    </tr>\n",
              "    <tr>\n",
              "      <th>max</th>\n",
              "      <td>37.600000</td>\n",
              "      <td>27.900000</td>\n",
              "      <td>16.400000</td>\n",
              "      <td>17.400000</td>\n",
              "      <td>92.0000</td>\n",
              "      <td>96.000000</td>\n",
              "    </tr>\n",
              "  </tbody>\n",
              "</table>\n",
              "</div>\n",
              "    <div class=\"colab-df-buttons\">\n",
              "\n",
              "  <div class=\"colab-df-container\">\n",
              "    <button class=\"colab-df-convert\" onclick=\"convertToInteractive('df-3dc1f6e4-e2e8-4a1c-ac64-b7f88055406b')\"\n",
              "            title=\"Convert this dataframe to an interactive table.\"\n",
              "            style=\"display:none;\">\n",
              "\n",
              "  <svg xmlns=\"http://www.w3.org/2000/svg\" height=\"24px\" viewBox=\"0 -960 960 960\">\n",
              "    <path d=\"M120-120v-720h720v720H120Zm60-500h600v-160H180v160Zm220 220h160v-160H400v160Zm0 220h160v-160H400v160ZM180-400h160v-160H180v160Zm440 0h160v-160H620v160ZM180-180h160v-160H180v160Zm440 0h160v-160H620v160Z\"/>\n",
              "  </svg>\n",
              "    </button>\n",
              "\n",
              "  <style>\n",
              "    .colab-df-container {\n",
              "      display:flex;\n",
              "      gap: 12px;\n",
              "    }\n",
              "\n",
              "    .colab-df-convert {\n",
              "      background-color: #E8F0FE;\n",
              "      border: none;\n",
              "      border-radius: 50%;\n",
              "      cursor: pointer;\n",
              "      display: none;\n",
              "      fill: #1967D2;\n",
              "      height: 32px;\n",
              "      padding: 0 0 0 0;\n",
              "      width: 32px;\n",
              "    }\n",
              "\n",
              "    .colab-df-convert:hover {\n",
              "      background-color: #E2EBFA;\n",
              "      box-shadow: 0px 1px 2px rgba(60, 64, 67, 0.3), 0px 1px 3px 1px rgba(60, 64, 67, 0.15);\n",
              "      fill: #174EA6;\n",
              "    }\n",
              "\n",
              "    .colab-df-buttons div {\n",
              "      margin-bottom: 4px;\n",
              "    }\n",
              "\n",
              "    [theme=dark] .colab-df-convert {\n",
              "      background-color: #3B4455;\n",
              "      fill: #D2E3FC;\n",
              "    }\n",
              "\n",
              "    [theme=dark] .colab-df-convert:hover {\n",
              "      background-color: #434B5C;\n",
              "      box-shadow: 0px 1px 3px 1px rgba(0, 0, 0, 0.15);\n",
              "      filter: drop-shadow(0px 1px 2px rgba(0, 0, 0, 0.3));\n",
              "      fill: #FFFFFF;\n",
              "    }\n",
              "  </style>\n",
              "\n",
              "    <script>\n",
              "      const buttonEl =\n",
              "        document.querySelector('#df-3dc1f6e4-e2e8-4a1c-ac64-b7f88055406b button.colab-df-convert');\n",
              "      buttonEl.style.display =\n",
              "        google.colab.kernel.accessAllowed ? 'block' : 'none';\n",
              "\n",
              "      async function convertToInteractive(key) {\n",
              "        const element = document.querySelector('#df-3dc1f6e4-e2e8-4a1c-ac64-b7f88055406b');\n",
              "        const dataTable =\n",
              "          await google.colab.kernel.invokeFunction('convertToInteractive',\n",
              "                                                    [key], {});\n",
              "        if (!dataTable) return;\n",
              "\n",
              "        const docLinkHtml = 'Like what you see? Visit the ' +\n",
              "          '<a target=\"_blank\" href=https://colab.research.google.com/notebooks/data_table.ipynb>data table notebook</a>'\n",
              "          + ' to learn more about interactive tables.';\n",
              "        element.innerHTML = '';\n",
              "        dataTable['output_type'] = 'display_data';\n",
              "        await google.colab.output.renderOutput(dataTable, element);\n",
              "        const docLink = document.createElement('div');\n",
              "        docLink.innerHTML = docLinkHtml;\n",
              "        element.appendChild(docLink);\n",
              "      }\n",
              "    </script>\n",
              "  </div>\n",
              "\n",
              "\n",
              "    <div id=\"df-abf8b7ce-2093-4b1c-bd9e-1a6bcc73034d\">\n",
              "      <button class=\"colab-df-quickchart\" onclick=\"quickchart('df-abf8b7ce-2093-4b1c-bd9e-1a6bcc73034d')\"\n",
              "                title=\"Suggest charts\"\n",
              "                style=\"display:none;\">\n",
              "\n",
              "<svg xmlns=\"http://www.w3.org/2000/svg\" height=\"24px\"viewBox=\"0 0 24 24\"\n",
              "     width=\"24px\">\n",
              "    <g>\n",
              "        <path d=\"M19 3H5c-1.1 0-2 .9-2 2v14c0 1.1.9 2 2 2h14c1.1 0 2-.9 2-2V5c0-1.1-.9-2-2-2zM9 17H7v-7h2v7zm4 0h-2V7h2v10zm4 0h-2v-4h2v4z\"/>\n",
              "    </g>\n",
              "</svg>\n",
              "      </button>\n",
              "\n",
              "<style>\n",
              "  .colab-df-quickchart {\n",
              "      --bg-color: #E8F0FE;\n",
              "      --fill-color: #1967D2;\n",
              "      --hover-bg-color: #E2EBFA;\n",
              "      --hover-fill-color: #174EA6;\n",
              "      --disabled-fill-color: #AAA;\n",
              "      --disabled-bg-color: #DDD;\n",
              "  }\n",
              "\n",
              "  [theme=dark] .colab-df-quickchart {\n",
              "      --bg-color: #3B4455;\n",
              "      --fill-color: #D2E3FC;\n",
              "      --hover-bg-color: #434B5C;\n",
              "      --hover-fill-color: #FFFFFF;\n",
              "      --disabled-bg-color: #3B4455;\n",
              "      --disabled-fill-color: #666;\n",
              "  }\n",
              "\n",
              "  .colab-df-quickchart {\n",
              "    background-color: var(--bg-color);\n",
              "    border: none;\n",
              "    border-radius: 50%;\n",
              "    cursor: pointer;\n",
              "    display: none;\n",
              "    fill: var(--fill-color);\n",
              "    height: 32px;\n",
              "    padding: 0;\n",
              "    width: 32px;\n",
              "  }\n",
              "\n",
              "  .colab-df-quickchart:hover {\n",
              "    background-color: var(--hover-bg-color);\n",
              "    box-shadow: 0 1px 2px rgba(60, 64, 67, 0.3), 0 1px 3px 1px rgba(60, 64, 67, 0.15);\n",
              "    fill: var(--button-hover-fill-color);\n",
              "  }\n",
              "\n",
              "  .colab-df-quickchart-complete:disabled,\n",
              "  .colab-df-quickchart-complete:disabled:hover {\n",
              "    background-color: var(--disabled-bg-color);\n",
              "    fill: var(--disabled-fill-color);\n",
              "    box-shadow: none;\n",
              "  }\n",
              "\n",
              "  .colab-df-spinner {\n",
              "    border: 2px solid var(--fill-color);\n",
              "    border-color: transparent;\n",
              "    border-bottom-color: var(--fill-color);\n",
              "    animation:\n",
              "      spin 1s steps(1) infinite;\n",
              "  }\n",
              "\n",
              "  @keyframes spin {\n",
              "    0% {\n",
              "      border-color: transparent;\n",
              "      border-bottom-color: var(--fill-color);\n",
              "      border-left-color: var(--fill-color);\n",
              "    }\n",
              "    20% {\n",
              "      border-color: transparent;\n",
              "      border-left-color: var(--fill-color);\n",
              "      border-top-color: var(--fill-color);\n",
              "    }\n",
              "    30% {\n",
              "      border-color: transparent;\n",
              "      border-left-color: var(--fill-color);\n",
              "      border-top-color: var(--fill-color);\n",
              "      border-right-color: var(--fill-color);\n",
              "    }\n",
              "    40% {\n",
              "      border-color: transparent;\n",
              "      border-right-color: var(--fill-color);\n",
              "      border-top-color: var(--fill-color);\n",
              "    }\n",
              "    60% {\n",
              "      border-color: transparent;\n",
              "      border-right-color: var(--fill-color);\n",
              "    }\n",
              "    80% {\n",
              "      border-color: transparent;\n",
              "      border-right-color: var(--fill-color);\n",
              "      border-bottom-color: var(--fill-color);\n",
              "    }\n",
              "    90% {\n",
              "      border-color: transparent;\n",
              "      border-bottom-color: var(--fill-color);\n",
              "    }\n",
              "  }\n",
              "</style>\n",
              "\n",
              "      <script>\n",
              "        async function quickchart(key) {\n",
              "          const quickchartButtonEl =\n",
              "            document.querySelector('#' + key + ' button');\n",
              "          quickchartButtonEl.disabled = true;  // To prevent multiple clicks.\n",
              "          quickchartButtonEl.classList.add('colab-df-spinner');\n",
              "          try {\n",
              "            const charts = await google.colab.kernel.invokeFunction(\n",
              "                'suggestCharts', [key], {});\n",
              "          } catch (error) {\n",
              "            console.error('Error during call to suggestCharts:', error);\n",
              "          }\n",
              "          quickchartButtonEl.classList.remove('colab-df-spinner');\n",
              "          quickchartButtonEl.classList.add('colab-df-quickchart-complete');\n",
              "        }\n",
              "        (() => {\n",
              "          let quickchartButtonEl =\n",
              "            document.querySelector('#df-abf8b7ce-2093-4b1c-bd9e-1a6bcc73034d button');\n",
              "          quickchartButtonEl.style.display =\n",
              "            google.colab.kernel.accessAllowed ? 'block' : 'none';\n",
              "        })();\n",
              "      </script>\n",
              "    </div>\n",
              "\n",
              "    </div>\n",
              "  </div>\n"
            ],
            "application/vnd.google.colaboratory.intrinsic+json": {
              "type": "dataframe",
              "summary": "{\n  \"name\": \"forecast_df\",\n  \"rows\": 8,\n  \"fields\": [\n    {\n      \"column\": \"Max Temp (\\u00b0C)\",\n      \"properties\": {\n        \"dtype\": \"number\",\n        \"std\": 14.249222830429124,\n        \"min\": 0.9935905707192583,\n        \"max\": 37.6,\n        \"num_unique_values\": 8,\n        \"samples\": [\n          35.75,\n          35.7,\n          10.0\n        ],\n        \"semantic_type\": \"\",\n        \"description\": \"\"\n      }\n    },\n    {\n      \"column\": \"Min Temp (\\u00b0C)\",\n      \"properties\": {\n        \"dtype\": \"number\",\n        \"std\": 10.576223271798407,\n        \"min\": 0.45411696975803784,\n        \"max\": 27.9,\n        \"num_unique_values\": 8,\n        \"samples\": [\n          27.420000000000005,\n          27.55,\n          10.0\n        ],\n        \"semantic_type\": \"\",\n        \"description\": \"\"\n      }\n    },\n    {\n      \"column\": \"Precipitation (mm)\",\n      \"properties\": {\n        \"dtype\": \"number\",\n        \"std\": 5.007145381787522,\n        \"min\": 0.0,\n        \"max\": 16.4,\n        \"num_unique_values\": 8,\n        \"samples\": [\n          5.83,\n          4.45,\n          10.0\n        ],\n        \"semantic_type\": \"\",\n        \"description\": \"\"\n      }\n    },\n    {\n      \"column\": \"Max Wind Speed (km/h)\",\n      \"properties\": {\n        \"dtype\": \"number\",\n        \"std\": 4.044914634125694,\n        \"min\": 3.1811947441173727,\n        \"max\": 17.4,\n        \"num_unique_values\": 8,\n        \"samples\": [\n          11.1,\n          10.35,\n          10.0\n        ],\n        \"semantic_type\": \"\",\n        \"description\": \"\"\n      }\n    },\n    {\n      \"column\": \"Max Humidity (%)\",\n      \"properties\": {\n        \"dtype\": \"number\",\n        \"std\": 38.69057111946127,\n        \"min\": 2.1186998109427604,\n        \"max\": 92.0,\n        \"num_unique_values\": 8,\n        \"samples\": [\n          89.6,\n          90.5,\n          10.0\n        ],\n        \"semantic_type\": \"\",\n        \"description\": \"\"\n      }\n    },\n    {\n      \"column\": \"Weather Code\",\n      \"properties\": {\n        \"dtype\": \"number\",\n        \"std\": 36.44754777645173,\n        \"min\": 3.0,\n        \"max\": 96.0,\n        \"num_unique_values\": 8,\n        \"samples\": [\n          71.1,\n          80.0,\n          10.0\n        ],\n        \"semantic_type\": \"\",\n        \"description\": \"\"\n      }\n    }\n  ]\n}"
            }
          },
          "metadata": {},
          "execution_count": 11
        }
      ]
    },
    {
      "cell_type": "code",
      "source": [
        "forecast_df.columns"
      ],
      "metadata": {
        "colab": {
          "base_uri": "https://localhost:8080/"
        },
        "id": "xxHusp8DCJ99",
        "outputId": "e3db4628-0a73-4301-a035-ca0492425387"
      },
      "execution_count": null,
      "outputs": [
        {
          "output_type": "execute_result",
          "data": {
            "text/plain": [
              "Index(['Date', 'Max Temp (°C)', 'Min Temp (°C)', 'Precipitation (mm)',\n",
              "       'Max Wind Speed (km/h)', 'Max Humidity (%)', 'Weather Code'],\n",
              "      dtype='object')"
            ]
          },
          "metadata": {},
          "execution_count": 13
        }
      ]
    },
    {
      "cell_type": "code",
      "source": [
        "forecast_df.shape"
      ],
      "metadata": {
        "colab": {
          "base_uri": "https://localhost:8080/"
        },
        "id": "c5qwPTBrDFty",
        "outputId": "eb00e3c6-036a-48ba-9870-ed43f7254633"
      },
      "execution_count": null,
      "outputs": [
        {
          "output_type": "execute_result",
          "data": {
            "text/plain": [
              "(10, 7)"
            ]
          },
          "metadata": {},
          "execution_count": 14
        }
      ]
    },
    {
      "cell_type": "markdown",
      "source": [
        "Checking Null values from each columns"
      ],
      "metadata": {
        "id": "7KTPVJllDR8r"
      }
    },
    {
      "cell_type": "code",
      "source": [
        "forecast_df.isnull().sum()"
      ],
      "metadata": {
        "colab": {
          "base_uri": "https://localhost:8080/",
          "height": 303
        },
        "id": "I-l2ejy9DFp9",
        "outputId": "c99df56d-f0a0-48bf-e029-b092054e007a"
      },
      "execution_count": null,
      "outputs": [
        {
          "output_type": "execute_result",
          "data": {
            "text/plain": [
              "Date                     0\n",
              "Max Temp (°C)            0\n",
              "Min Temp (°C)            0\n",
              "Precipitation (mm)       0\n",
              "Max Wind Speed (km/h)    0\n",
              "Max Humidity (%)         0\n",
              "Weather Code             0\n",
              "dtype: int64"
            ],
            "text/html": [
              "<div>\n",
              "<style scoped>\n",
              "    .dataframe tbody tr th:only-of-type {\n",
              "        vertical-align: middle;\n",
              "    }\n",
              "\n",
              "    .dataframe tbody tr th {\n",
              "        vertical-align: top;\n",
              "    }\n",
              "\n",
              "    .dataframe thead th {\n",
              "        text-align: right;\n",
              "    }\n",
              "</style>\n",
              "<table border=\"1\" class=\"dataframe\">\n",
              "  <thead>\n",
              "    <tr style=\"text-align: right;\">\n",
              "      <th></th>\n",
              "      <th>0</th>\n",
              "    </tr>\n",
              "  </thead>\n",
              "  <tbody>\n",
              "    <tr>\n",
              "      <th>Date</th>\n",
              "      <td>0</td>\n",
              "    </tr>\n",
              "    <tr>\n",
              "      <th>Max Temp (°C)</th>\n",
              "      <td>0</td>\n",
              "    </tr>\n",
              "    <tr>\n",
              "      <th>Min Temp (°C)</th>\n",
              "      <td>0</td>\n",
              "    </tr>\n",
              "    <tr>\n",
              "      <th>Precipitation (mm)</th>\n",
              "      <td>0</td>\n",
              "    </tr>\n",
              "    <tr>\n",
              "      <th>Max Wind Speed (km/h)</th>\n",
              "      <td>0</td>\n",
              "    </tr>\n",
              "    <tr>\n",
              "      <th>Max Humidity (%)</th>\n",
              "      <td>0</td>\n",
              "    </tr>\n",
              "    <tr>\n",
              "      <th>Weather Code</th>\n",
              "      <td>0</td>\n",
              "    </tr>\n",
              "  </tbody>\n",
              "</table>\n",
              "</div><br><label><b>dtype:</b> int64</label>"
            ]
          },
          "metadata": {},
          "execution_count": 15
        }
      ]
    },
    {
      "cell_type": "code",
      "source": [
        "forecast_df['Date']"
      ],
      "metadata": {
        "colab": {
          "base_uri": "https://localhost:8080/",
          "height": 397
        },
        "id": "CnpRW58yDFnH",
        "outputId": "cb9006ed-8ab3-4d83-ab89-3a8411bc213e"
      },
      "execution_count": null,
      "outputs": [
        {
          "output_type": "execute_result",
          "data": {
            "text/plain": [
              "0    2025-05-14\n",
              "1    2025-05-15\n",
              "2    2025-05-16\n",
              "3    2025-05-17\n",
              "4    2025-05-18\n",
              "5    2025-05-19\n",
              "6    2025-05-20\n",
              "7    2025-05-21\n",
              "8    2025-05-22\n",
              "9    2025-05-23\n",
              "Name: Date, dtype: object"
            ],
            "text/html": [
              "<div>\n",
              "<style scoped>\n",
              "    .dataframe tbody tr th:only-of-type {\n",
              "        vertical-align: middle;\n",
              "    }\n",
              "\n",
              "    .dataframe tbody tr th {\n",
              "        vertical-align: top;\n",
              "    }\n",
              "\n",
              "    .dataframe thead th {\n",
              "        text-align: right;\n",
              "    }\n",
              "</style>\n",
              "<table border=\"1\" class=\"dataframe\">\n",
              "  <thead>\n",
              "    <tr style=\"text-align: right;\">\n",
              "      <th></th>\n",
              "      <th>Date</th>\n",
              "    </tr>\n",
              "  </thead>\n",
              "  <tbody>\n",
              "    <tr>\n",
              "      <th>0</th>\n",
              "      <td>2025-05-14</td>\n",
              "    </tr>\n",
              "    <tr>\n",
              "      <th>1</th>\n",
              "      <td>2025-05-15</td>\n",
              "    </tr>\n",
              "    <tr>\n",
              "      <th>2</th>\n",
              "      <td>2025-05-16</td>\n",
              "    </tr>\n",
              "    <tr>\n",
              "      <th>3</th>\n",
              "      <td>2025-05-17</td>\n",
              "    </tr>\n",
              "    <tr>\n",
              "      <th>4</th>\n",
              "      <td>2025-05-18</td>\n",
              "    </tr>\n",
              "    <tr>\n",
              "      <th>5</th>\n",
              "      <td>2025-05-19</td>\n",
              "    </tr>\n",
              "    <tr>\n",
              "      <th>6</th>\n",
              "      <td>2025-05-20</td>\n",
              "    </tr>\n",
              "    <tr>\n",
              "      <th>7</th>\n",
              "      <td>2025-05-21</td>\n",
              "    </tr>\n",
              "    <tr>\n",
              "      <th>8</th>\n",
              "      <td>2025-05-22</td>\n",
              "    </tr>\n",
              "    <tr>\n",
              "      <th>9</th>\n",
              "      <td>2025-05-23</td>\n",
              "    </tr>\n",
              "  </tbody>\n",
              "</table>\n",
              "</div><br><label><b>dtype:</b> object</label>"
            ]
          },
          "metadata": {},
          "execution_count": 16
        }
      ]
    },
    {
      "cell_type": "code",
      "source": [
        "forecast_df['Max Humidity (%)'].first_valid_index()"
      ],
      "metadata": {
        "colab": {
          "base_uri": "https://localhost:8080/"
        },
        "id": "GqyEh93qD_Ah",
        "outputId": "ab13b430-8d99-42c9-9c62-4a545f2d7d0f"
      },
      "execution_count": null,
      "outputs": [
        {
          "output_type": "execute_result",
          "data": {
            "text/plain": [
              "0"
            ]
          },
          "metadata": {},
          "execution_count": 24
        }
      ]
    },
    {
      "cell_type": "markdown",
      "source": [
        "# Clean & Format Data"
      ],
      "metadata": {
        "id": "VjN_DOsNRsdG"
      }
    },
    {
      "cell_type": "markdown",
      "source": [
        "**Remove duplicate value**"
      ],
      "metadata": {
        "id": "nr9b8dLWSCSm"
      }
    },
    {
      "cell_type": "code",
      "source": [
        "forecast_df.drop_duplicates(inplace=True)"
      ],
      "metadata": {
        "id": "Gnn5GUxcFHaX"
      },
      "execution_count": null,
      "outputs": []
    },
    {
      "cell_type": "markdown",
      "source": [
        "Handling missing Values"
      ],
      "metadata": {
        "id": "qRu8mCCAToc_"
      }
    },
    {
      "cell_type": "code",
      "source": [
        "forecast_df.fillna(method='ffill', inplace=True)"
      ],
      "metadata": {
        "colab": {
          "base_uri": "https://localhost:8080/"
        },
        "id": "H9UCCv4FSU_2",
        "outputId": "fe2ea3bd-a543-4364-9969-09a2e80dab75"
      },
      "execution_count": null,
      "outputs": [
        {
          "output_type": "stream",
          "name": "stderr",
          "text": [
            "<ipython-input-60-128db361555b>:1: FutureWarning: DataFrame.fillna with 'method' is deprecated and will raise in a future version. Use obj.ffill() or obj.bfill() instead.\n",
            "  forecast_df.fillna(method='ffill', inplace=True)\n"
          ]
        }
      ]
    },
    {
      "cell_type": "markdown",
      "source": [
        "Formating data type"
      ],
      "metadata": {
        "id": "WGXha93pTsHE"
      }
    },
    {
      "cell_type": "code",
      "source": [
        "forecast_df['Date'] = pd.to_datetime(forecast_df['Date'])"
      ],
      "metadata": {
        "id": "kbliB2BkSo3e"
      },
      "execution_count": null,
      "outputs": []
    },
    {
      "cell_type": "code",
      "source": [
        "forecast_df['Date']"
      ],
      "metadata": {
        "colab": {
          "base_uri": "https://localhost:8080/",
          "height": 397
        },
        "id": "lwisNF2rSox5",
        "outputId": "7c82ac56-4708-4744-e912-9322dbe6d513"
      },
      "execution_count": null,
      "outputs": [
        {
          "output_type": "execute_result",
          "data": {
            "text/plain": [
              "0   2025-05-14\n",
              "1   2025-05-15\n",
              "2   2025-05-16\n",
              "3   2025-05-17\n",
              "4   2025-05-18\n",
              "5   2025-05-19\n",
              "6   2025-05-20\n",
              "7   2025-05-21\n",
              "8   2025-05-22\n",
              "9   2025-05-23\n",
              "Name: Date, dtype: datetime64[ns]"
            ],
            "text/html": [
              "<div>\n",
              "<style scoped>\n",
              "    .dataframe tbody tr th:only-of-type {\n",
              "        vertical-align: middle;\n",
              "    }\n",
              "\n",
              "    .dataframe tbody tr th {\n",
              "        vertical-align: top;\n",
              "    }\n",
              "\n",
              "    .dataframe thead th {\n",
              "        text-align: right;\n",
              "    }\n",
              "</style>\n",
              "<table border=\"1\" class=\"dataframe\">\n",
              "  <thead>\n",
              "    <tr style=\"text-align: right;\">\n",
              "      <th></th>\n",
              "      <th>Date</th>\n",
              "    </tr>\n",
              "  </thead>\n",
              "  <tbody>\n",
              "    <tr>\n",
              "      <th>0</th>\n",
              "      <td>2025-05-14</td>\n",
              "    </tr>\n",
              "    <tr>\n",
              "      <th>1</th>\n",
              "      <td>2025-05-15</td>\n",
              "    </tr>\n",
              "    <tr>\n",
              "      <th>2</th>\n",
              "      <td>2025-05-16</td>\n",
              "    </tr>\n",
              "    <tr>\n",
              "      <th>3</th>\n",
              "      <td>2025-05-17</td>\n",
              "    </tr>\n",
              "    <tr>\n",
              "      <th>4</th>\n",
              "      <td>2025-05-18</td>\n",
              "    </tr>\n",
              "    <tr>\n",
              "      <th>5</th>\n",
              "      <td>2025-05-19</td>\n",
              "    </tr>\n",
              "    <tr>\n",
              "      <th>6</th>\n",
              "      <td>2025-05-20</td>\n",
              "    </tr>\n",
              "    <tr>\n",
              "      <th>7</th>\n",
              "      <td>2025-05-21</td>\n",
              "    </tr>\n",
              "    <tr>\n",
              "      <th>8</th>\n",
              "      <td>2025-05-22</td>\n",
              "    </tr>\n",
              "    <tr>\n",
              "      <th>9</th>\n",
              "      <td>2025-05-23</td>\n",
              "    </tr>\n",
              "  </tbody>\n",
              "</table>\n",
              "</div><br><label><b>dtype:</b> datetime64[ns]</label>"
            ]
          },
          "metadata": {},
          "execution_count": 62
        }
      ]
    },
    {
      "cell_type": "code",
      "source": [
        "forecast_df.loc[0, 'Date'].day_name()"
      ],
      "metadata": {
        "colab": {
          "base_uri": "https://localhost:8080/",
          "height": 36
        },
        "id": "WZyuApufS-Av",
        "outputId": "04cc041b-d22b-4fdd-ad31-3a5dc7339ec9"
      },
      "execution_count": null,
      "outputs": [
        {
          "output_type": "execute_result",
          "data": {
            "text/plain": [
              "'Wednesday'"
            ],
            "application/vnd.google.colaboratory.intrinsic+json": {
              "type": "string"
            }
          },
          "metadata": {},
          "execution_count": 63
        }
      ]
    },
    {
      "cell_type": "code",
      "source": [
        "forecast_df.loc[4, 'Date'].day_name()"
      ],
      "metadata": {
        "colab": {
          "base_uri": "https://localhost:8080/",
          "height": 36
        },
        "id": "NXpHwA7vS_nP",
        "outputId": "4a4cf405-125c-4739-846a-b02b4bc6a769"
      },
      "execution_count": null,
      "outputs": [
        {
          "output_type": "execute_result",
          "data": {
            "text/plain": [
              "'Sunday'"
            ],
            "application/vnd.google.colaboratory.intrinsic+json": {
              "type": "string"
            }
          },
          "metadata": {},
          "execution_count": 64
        }
      ]
    },
    {
      "cell_type": "code",
      "source": [
        "type(forecast_df.loc[0, 'Date'])"
      ],
      "metadata": {
        "colab": {
          "base_uri": "https://localhost:8080/"
        },
        "id": "3iYAp5nwTGFk",
        "outputId": "9031d45b-e803-4a09-a652-bc85b77392fe"
      },
      "execution_count": null,
      "outputs": [
        {
          "output_type": "execute_result",
          "data": {
            "text/plain": [
              "pandas._libs.tslibs.timestamps.Timestamp"
            ]
          },
          "metadata": {},
          "execution_count": 65
        }
      ]
    },
    {
      "cell_type": "code",
      "source": [
        "forecast_df.info()"
      ],
      "metadata": {
        "colab": {
          "base_uri": "https://localhost:8080/"
        },
        "id": "vSs6CHHHTL8F",
        "outputId": "e74cbba7-0a61-404f-8d67-0995b1524d09"
      },
      "execution_count": null,
      "outputs": [
        {
          "output_type": "stream",
          "name": "stdout",
          "text": [
            "<class 'pandas.core.frame.DataFrame'>\n",
            "RangeIndex: 10 entries, 0 to 9\n",
            "Data columns (total 7 columns):\n",
            " #   Column                 Non-Null Count  Dtype         \n",
            "---  ------                 --------------  -----         \n",
            " 0   Date                   10 non-null     datetime64[ns]\n",
            " 1   Max Temp (°C)          10 non-null     float64       \n",
            " 2   Min Temp (°C)          10 non-null     float64       \n",
            " 3   Precipitation (mm)     10 non-null     float64       \n",
            " 4   Max Wind Speed (km/h)  10 non-null     float64       \n",
            " 5   Max Humidity (%)       10 non-null     int64         \n",
            " 6   Weather Code           10 non-null     int64         \n",
            "dtypes: datetime64[ns](1), float64(4), int64(2)\n",
            "memory usage: 692.0 bytes\n"
          ]
        }
      ]
    },
    {
      "cell_type": "markdown",
      "source": [
        "# Analyzing Weather\n",
        "Data Analysis with Aggregation"
      ],
      "metadata": {
        "id": "VVg38Wk2FDva"
      }
    },
    {
      "cell_type": "markdown",
      "source": [
        "**Average Temperatures**"
      ],
      "metadata": {
        "id": "MnepOWmuJCth"
      }
    },
    {
      "cell_type": "code",
      "source": [
        "avg_max_temp = forecast_df[\"Max Temp (°C)\"].mean()\n",
        "avg_min_temp = forecast_df[\"Min Temp (°C)\"].mean()\n",
        "\n",
        "print(f\"🌡️ Average Max Temp over 10 days: {avg_max_temp:.2f}°C\")\n",
        "print(f\"🌡️ Average Min Temp over 10 days: {avg_min_temp:.2f}°C\")"
      ],
      "metadata": {
        "colab": {
          "base_uri": "https://localhost:8080/"
        },
        "id": "QA2E9UTYD-80",
        "outputId": "eb95c3a0-64a4-4632-dac9-aed0cb0dcc13"
      },
      "execution_count": null,
      "outputs": [
        {
          "output_type": "stream",
          "name": "stdout",
          "text": [
            "🌡️ Average Max Temp over 10 days: 35.75°C\n",
            "🌡️ Average Min Temp over 10 days: 27.42°C\n"
          ]
        }
      ]
    },
    {
      "cell_type": "markdown",
      "source": [
        "**Total and Average Precipitation**"
      ],
      "metadata": {
        "id": "E74GlIvqJX0A"
      }
    },
    {
      "cell_type": "code",
      "source": [
        "total_rain = forecast_df[\"Precipitation (mm)\"].sum()\n",
        "avg_rain = forecast_df[\"Precipitation (mm)\"].mean()\n",
        "\n",
        "print(f\"☔ Total Precipitation over 10 days: {total_rain:.2f} mm\")\n",
        "print(f\"☔ Average Daily Precipitation: {avg_rain:.2f} mm\")"
      ],
      "metadata": {
        "colab": {
          "base_uri": "https://localhost:8080/"
        },
        "id": "Q0VPutagD5Eq",
        "outputId": "fe75ca90-7cae-4328-e791-bf1579dc5f71"
      },
      "execution_count": null,
      "outputs": [
        {
          "output_type": "stream",
          "name": "stdout",
          "text": [
            "☔ Total Precipitation over 10 days: 58.30 mm\n",
            "☔ Average Daily Precipitation: 5.83 mm\n"
          ]
        }
      ]
    },
    {
      "cell_type": "markdown",
      "source": [
        "**Max Wind Speed and Humidity Observed**"
      ],
      "metadata": {
        "id": "hUz4RAzEJs0a"
      }
    },
    {
      "cell_type": "code",
      "source": [
        "max_wind = forecast_df[\"Max Wind Speed (km/h)\"].max()\n",
        "max_humidity = forecast_df[\"Max Humidity (%)\"].max()\n",
        "\n",
        "print(f\"🍃 Highest Wind Speed: {max_wind} km/h\")\n",
        "print(f\"💦 Highest Humidity: {max_humidity}%\")"
      ],
      "metadata": {
        "colab": {
          "base_uri": "https://localhost:8080/"
        },
        "id": "xQF73fxtJnyl",
        "outputId": "37beffb0-8b56-46aa-c643-13d0fd1cae29"
      },
      "execution_count": null,
      "outputs": [
        {
          "output_type": "stream",
          "name": "stdout",
          "text": [
            "🍃 Highest Wind Speed: 17.4 km/h\n",
            "💦 Highest Humidity: 92%\n"
          ]
        }
      ]
    },
    {
      "cell_type": "markdown",
      "source": [
        "**Hottest and Coolest Days**"
      ],
      "metadata": {
        "id": "hsNgBaPGKAZW"
      }
    },
    {
      "cell_type": "code",
      "source": [
        "hottest_day = forecast_df[forecast_df[\"Max Temp (°C)\"] == forecast_df[\"Max Temp (°C)\"].max()][\"Date\"].values[0]\n",
        "coolest_day = forecast_df[forecast_df[\"Min Temp (°C)\"] == forecast_df[\"Min Temp (°C)\"].min()][\"Date\"].values[0]\n",
        "\n",
        "print(f\"🔥 Hottest Day: {hottest_day}\")\n",
        "print(f\"❄️ Coolest Night: {coolest_day}\")\n"
      ],
      "metadata": {
        "colab": {
          "base_uri": "https://localhost:8080/"
        },
        "id": "DWIXeKgWJnu_",
        "outputId": "21034d31-2eb6-4975-8d54-deaeb5006fe0"
      },
      "execution_count": null,
      "outputs": [
        {
          "output_type": "stream",
          "name": "stdout",
          "text": [
            "🔥 Hottest Day: 2025-05-14T00:00:00.000000000\n",
            "❄️ Coolest Night: 2025-05-22T00:00:00.000000000\n"
          ]
        }
      ]
    },
    {
      "cell_type": "markdown",
      "source": [
        " **Count of Rainy Days**"
      ],
      "metadata": {
        "id": "H4oikRoPLMEe"
      }
    },
    {
      "cell_type": "code",
      "source": [
        "rainy_days = forecast_df[forecast_df[\"Precipitation (mm)\"] > 5].shape[0]\n",
        "print(f\"🌧️ Days with Rain Forecast: {rainy_days} out of 10\")"
      ],
      "metadata": {
        "colab": {
          "base_uri": "https://localhost:8080/"
        },
        "id": "F4_Wx0ABJnop",
        "outputId": "c4dbfa6b-c0a9-4038-ad1e-be71d0bc5d86"
      },
      "execution_count": null,
      "outputs": [
        {
          "output_type": "stream",
          "name": "stdout",
          "text": [
            "🌧️ Days with Rain Forecast: 5 out of 10\n"
          ]
        }
      ]
    },
    {
      "cell_type": "code",
      "source": [
        "forecast_df"
      ],
      "metadata": {
        "colab": {
          "base_uri": "https://localhost:8080/",
          "height": 363
        },
        "id": "xAxPNM1BJneW",
        "outputId": "4f53de91-bbb4-4f68-df2e-ae2354c5f1dc"
      },
      "execution_count": null,
      "outputs": [
        {
          "output_type": "execute_result",
          "data": {
            "text/plain": [
              "        Date  Max Temp (°C)  Min Temp (°C)  Precipitation (mm)  \\\n",
              "0 2025-05-14           37.6           27.8                 2.9   \n",
              "1 2025-05-15           36.9           27.9                 2.4   \n",
              "2 2025-05-16           35.4           27.8                 6.8   \n",
              "3 2025-05-17           36.1           27.6                 0.6   \n",
              "4 2025-05-18           35.5           27.6                 7.6   \n",
              "5 2025-05-19           35.8           27.2                12.9   \n",
              "6 2025-05-20           34.1           27.4                16.4   \n",
              "7 2025-05-21           35.7           27.0                 6.0   \n",
              "8 2025-05-22           34.7           26.4                 2.7   \n",
              "9 2025-05-23           35.7           27.5                 0.0   \n",
              "\n",
              "   Max Wind Speed (km/h)  Max Humidity (%)  Weather Code  \n",
              "0                   11.7                91            80  \n",
              "1                   11.5                85            80  \n",
              "2                   10.5                89            95  \n",
              "3                   10.0                90            80  \n",
              "4                    7.1                88            80  \n",
              "5                    8.3                91            96  \n",
              "6                    8.8                91            95  \n",
              "7                   10.2                92            51  \n",
              "8                   15.5                91            51  \n",
              "9                   17.4                88             3  "
            ],
            "text/html": [
              "\n",
              "  <div id=\"df-908f6f36-aa0d-4531-a512-fb1df99872ed\" class=\"colab-df-container\">\n",
              "    <div>\n",
              "<style scoped>\n",
              "    .dataframe tbody tr th:only-of-type {\n",
              "        vertical-align: middle;\n",
              "    }\n",
              "\n",
              "    .dataframe tbody tr th {\n",
              "        vertical-align: top;\n",
              "    }\n",
              "\n",
              "    .dataframe thead th {\n",
              "        text-align: right;\n",
              "    }\n",
              "</style>\n",
              "<table border=\"1\" class=\"dataframe\">\n",
              "  <thead>\n",
              "    <tr style=\"text-align: right;\">\n",
              "      <th></th>\n",
              "      <th>Date</th>\n",
              "      <th>Max Temp (°C)</th>\n",
              "      <th>Min Temp (°C)</th>\n",
              "      <th>Precipitation (mm)</th>\n",
              "      <th>Max Wind Speed (km/h)</th>\n",
              "      <th>Max Humidity (%)</th>\n",
              "      <th>Weather Code</th>\n",
              "    </tr>\n",
              "  </thead>\n",
              "  <tbody>\n",
              "    <tr>\n",
              "      <th>0</th>\n",
              "      <td>2025-05-14</td>\n",
              "      <td>37.6</td>\n",
              "      <td>27.8</td>\n",
              "      <td>2.9</td>\n",
              "      <td>11.7</td>\n",
              "      <td>91</td>\n",
              "      <td>80</td>\n",
              "    </tr>\n",
              "    <tr>\n",
              "      <th>1</th>\n",
              "      <td>2025-05-15</td>\n",
              "      <td>36.9</td>\n",
              "      <td>27.9</td>\n",
              "      <td>2.4</td>\n",
              "      <td>11.5</td>\n",
              "      <td>85</td>\n",
              "      <td>80</td>\n",
              "    </tr>\n",
              "    <tr>\n",
              "      <th>2</th>\n",
              "      <td>2025-05-16</td>\n",
              "      <td>35.4</td>\n",
              "      <td>27.8</td>\n",
              "      <td>6.8</td>\n",
              "      <td>10.5</td>\n",
              "      <td>89</td>\n",
              "      <td>95</td>\n",
              "    </tr>\n",
              "    <tr>\n",
              "      <th>3</th>\n",
              "      <td>2025-05-17</td>\n",
              "      <td>36.1</td>\n",
              "      <td>27.6</td>\n",
              "      <td>0.6</td>\n",
              "      <td>10.0</td>\n",
              "      <td>90</td>\n",
              "      <td>80</td>\n",
              "    </tr>\n",
              "    <tr>\n",
              "      <th>4</th>\n",
              "      <td>2025-05-18</td>\n",
              "      <td>35.5</td>\n",
              "      <td>27.6</td>\n",
              "      <td>7.6</td>\n",
              "      <td>7.1</td>\n",
              "      <td>88</td>\n",
              "      <td>80</td>\n",
              "    </tr>\n",
              "    <tr>\n",
              "      <th>5</th>\n",
              "      <td>2025-05-19</td>\n",
              "      <td>35.8</td>\n",
              "      <td>27.2</td>\n",
              "      <td>12.9</td>\n",
              "      <td>8.3</td>\n",
              "      <td>91</td>\n",
              "      <td>96</td>\n",
              "    </tr>\n",
              "    <tr>\n",
              "      <th>6</th>\n",
              "      <td>2025-05-20</td>\n",
              "      <td>34.1</td>\n",
              "      <td>27.4</td>\n",
              "      <td>16.4</td>\n",
              "      <td>8.8</td>\n",
              "      <td>91</td>\n",
              "      <td>95</td>\n",
              "    </tr>\n",
              "    <tr>\n",
              "      <th>7</th>\n",
              "      <td>2025-05-21</td>\n",
              "      <td>35.7</td>\n",
              "      <td>27.0</td>\n",
              "      <td>6.0</td>\n",
              "      <td>10.2</td>\n",
              "      <td>92</td>\n",
              "      <td>51</td>\n",
              "    </tr>\n",
              "    <tr>\n",
              "      <th>8</th>\n",
              "      <td>2025-05-22</td>\n",
              "      <td>34.7</td>\n",
              "      <td>26.4</td>\n",
              "      <td>2.7</td>\n",
              "      <td>15.5</td>\n",
              "      <td>91</td>\n",
              "      <td>51</td>\n",
              "    </tr>\n",
              "    <tr>\n",
              "      <th>9</th>\n",
              "      <td>2025-05-23</td>\n",
              "      <td>35.7</td>\n",
              "      <td>27.5</td>\n",
              "      <td>0.0</td>\n",
              "      <td>17.4</td>\n",
              "      <td>88</td>\n",
              "      <td>3</td>\n",
              "    </tr>\n",
              "  </tbody>\n",
              "</table>\n",
              "</div>\n",
              "    <div class=\"colab-df-buttons\">\n",
              "\n",
              "  <div class=\"colab-df-container\">\n",
              "    <button class=\"colab-df-convert\" onclick=\"convertToInteractive('df-908f6f36-aa0d-4531-a512-fb1df99872ed')\"\n",
              "            title=\"Convert this dataframe to an interactive table.\"\n",
              "            style=\"display:none;\">\n",
              "\n",
              "  <svg xmlns=\"http://www.w3.org/2000/svg\" height=\"24px\" viewBox=\"0 -960 960 960\">\n",
              "    <path d=\"M120-120v-720h720v720H120Zm60-500h600v-160H180v160Zm220 220h160v-160H400v160Zm0 220h160v-160H400v160ZM180-400h160v-160H180v160Zm440 0h160v-160H620v160ZM180-180h160v-160H180v160Zm440 0h160v-160H620v160Z\"/>\n",
              "  </svg>\n",
              "    </button>\n",
              "\n",
              "  <style>\n",
              "    .colab-df-container {\n",
              "      display:flex;\n",
              "      gap: 12px;\n",
              "    }\n",
              "\n",
              "    .colab-df-convert {\n",
              "      background-color: #E8F0FE;\n",
              "      border: none;\n",
              "      border-radius: 50%;\n",
              "      cursor: pointer;\n",
              "      display: none;\n",
              "      fill: #1967D2;\n",
              "      height: 32px;\n",
              "      padding: 0 0 0 0;\n",
              "      width: 32px;\n",
              "    }\n",
              "\n",
              "    .colab-df-convert:hover {\n",
              "      background-color: #E2EBFA;\n",
              "      box-shadow: 0px 1px 2px rgba(60, 64, 67, 0.3), 0px 1px 3px 1px rgba(60, 64, 67, 0.15);\n",
              "      fill: #174EA6;\n",
              "    }\n",
              "\n",
              "    .colab-df-buttons div {\n",
              "      margin-bottom: 4px;\n",
              "    }\n",
              "\n",
              "    [theme=dark] .colab-df-convert {\n",
              "      background-color: #3B4455;\n",
              "      fill: #D2E3FC;\n",
              "    }\n",
              "\n",
              "    [theme=dark] .colab-df-convert:hover {\n",
              "      background-color: #434B5C;\n",
              "      box-shadow: 0px 1px 3px 1px rgba(0, 0, 0, 0.15);\n",
              "      filter: drop-shadow(0px 1px 2px rgba(0, 0, 0, 0.3));\n",
              "      fill: #FFFFFF;\n",
              "    }\n",
              "  </style>\n",
              "\n",
              "    <script>\n",
              "      const buttonEl =\n",
              "        document.querySelector('#df-908f6f36-aa0d-4531-a512-fb1df99872ed button.colab-df-convert');\n",
              "      buttonEl.style.display =\n",
              "        google.colab.kernel.accessAllowed ? 'block' : 'none';\n",
              "\n",
              "      async function convertToInteractive(key) {\n",
              "        const element = document.querySelector('#df-908f6f36-aa0d-4531-a512-fb1df99872ed');\n",
              "        const dataTable =\n",
              "          await google.colab.kernel.invokeFunction('convertToInteractive',\n",
              "                                                    [key], {});\n",
              "        if (!dataTable) return;\n",
              "\n",
              "        const docLinkHtml = 'Like what you see? Visit the ' +\n",
              "          '<a target=\"_blank\" href=https://colab.research.google.com/notebooks/data_table.ipynb>data table notebook</a>'\n",
              "          + ' to learn more about interactive tables.';\n",
              "        element.innerHTML = '';\n",
              "        dataTable['output_type'] = 'display_data';\n",
              "        await google.colab.output.renderOutput(dataTable, element);\n",
              "        const docLink = document.createElement('div');\n",
              "        docLink.innerHTML = docLinkHtml;\n",
              "        element.appendChild(docLink);\n",
              "      }\n",
              "    </script>\n",
              "  </div>\n",
              "\n",
              "\n",
              "    <div id=\"df-e3e04cb0-c6be-4f6b-b512-542cd36711e9\">\n",
              "      <button class=\"colab-df-quickchart\" onclick=\"quickchart('df-e3e04cb0-c6be-4f6b-b512-542cd36711e9')\"\n",
              "                title=\"Suggest charts\"\n",
              "                style=\"display:none;\">\n",
              "\n",
              "<svg xmlns=\"http://www.w3.org/2000/svg\" height=\"24px\"viewBox=\"0 0 24 24\"\n",
              "     width=\"24px\">\n",
              "    <g>\n",
              "        <path d=\"M19 3H5c-1.1 0-2 .9-2 2v14c0 1.1.9 2 2 2h14c1.1 0 2-.9 2-2V5c0-1.1-.9-2-2-2zM9 17H7v-7h2v7zm4 0h-2V7h2v10zm4 0h-2v-4h2v4z\"/>\n",
              "    </g>\n",
              "</svg>\n",
              "      </button>\n",
              "\n",
              "<style>\n",
              "  .colab-df-quickchart {\n",
              "      --bg-color: #E8F0FE;\n",
              "      --fill-color: #1967D2;\n",
              "      --hover-bg-color: #E2EBFA;\n",
              "      --hover-fill-color: #174EA6;\n",
              "      --disabled-fill-color: #AAA;\n",
              "      --disabled-bg-color: #DDD;\n",
              "  }\n",
              "\n",
              "  [theme=dark] .colab-df-quickchart {\n",
              "      --bg-color: #3B4455;\n",
              "      --fill-color: #D2E3FC;\n",
              "      --hover-bg-color: #434B5C;\n",
              "      --hover-fill-color: #FFFFFF;\n",
              "      --disabled-bg-color: #3B4455;\n",
              "      --disabled-fill-color: #666;\n",
              "  }\n",
              "\n",
              "  .colab-df-quickchart {\n",
              "    background-color: var(--bg-color);\n",
              "    border: none;\n",
              "    border-radius: 50%;\n",
              "    cursor: pointer;\n",
              "    display: none;\n",
              "    fill: var(--fill-color);\n",
              "    height: 32px;\n",
              "    padding: 0;\n",
              "    width: 32px;\n",
              "  }\n",
              "\n",
              "  .colab-df-quickchart:hover {\n",
              "    background-color: var(--hover-bg-color);\n",
              "    box-shadow: 0 1px 2px rgba(60, 64, 67, 0.3), 0 1px 3px 1px rgba(60, 64, 67, 0.15);\n",
              "    fill: var(--button-hover-fill-color);\n",
              "  }\n",
              "\n",
              "  .colab-df-quickchart-complete:disabled,\n",
              "  .colab-df-quickchart-complete:disabled:hover {\n",
              "    background-color: var(--disabled-bg-color);\n",
              "    fill: var(--disabled-fill-color);\n",
              "    box-shadow: none;\n",
              "  }\n",
              "\n",
              "  .colab-df-spinner {\n",
              "    border: 2px solid var(--fill-color);\n",
              "    border-color: transparent;\n",
              "    border-bottom-color: var(--fill-color);\n",
              "    animation:\n",
              "      spin 1s steps(1) infinite;\n",
              "  }\n",
              "\n",
              "  @keyframes spin {\n",
              "    0% {\n",
              "      border-color: transparent;\n",
              "      border-bottom-color: var(--fill-color);\n",
              "      border-left-color: var(--fill-color);\n",
              "    }\n",
              "    20% {\n",
              "      border-color: transparent;\n",
              "      border-left-color: var(--fill-color);\n",
              "      border-top-color: var(--fill-color);\n",
              "    }\n",
              "    30% {\n",
              "      border-color: transparent;\n",
              "      border-left-color: var(--fill-color);\n",
              "      border-top-color: var(--fill-color);\n",
              "      border-right-color: var(--fill-color);\n",
              "    }\n",
              "    40% {\n",
              "      border-color: transparent;\n",
              "      border-right-color: var(--fill-color);\n",
              "      border-top-color: var(--fill-color);\n",
              "    }\n",
              "    60% {\n",
              "      border-color: transparent;\n",
              "      border-right-color: var(--fill-color);\n",
              "    }\n",
              "    80% {\n",
              "      border-color: transparent;\n",
              "      border-right-color: var(--fill-color);\n",
              "      border-bottom-color: var(--fill-color);\n",
              "    }\n",
              "    90% {\n",
              "      border-color: transparent;\n",
              "      border-bottom-color: var(--fill-color);\n",
              "    }\n",
              "  }\n",
              "</style>\n",
              "\n",
              "      <script>\n",
              "        async function quickchart(key) {\n",
              "          const quickchartButtonEl =\n",
              "            document.querySelector('#' + key + ' button');\n",
              "          quickchartButtonEl.disabled = true;  // To prevent multiple clicks.\n",
              "          quickchartButtonEl.classList.add('colab-df-spinner');\n",
              "          try {\n",
              "            const charts = await google.colab.kernel.invokeFunction(\n",
              "                'suggestCharts', [key], {});\n",
              "          } catch (error) {\n",
              "            console.error('Error during call to suggestCharts:', error);\n",
              "          }\n",
              "          quickchartButtonEl.classList.remove('colab-df-spinner');\n",
              "          quickchartButtonEl.classList.add('colab-df-quickchart-complete');\n",
              "        }\n",
              "        (() => {\n",
              "          let quickchartButtonEl =\n",
              "            document.querySelector('#df-e3e04cb0-c6be-4f6b-b512-542cd36711e9 button');\n",
              "          quickchartButtonEl.style.display =\n",
              "            google.colab.kernel.accessAllowed ? 'block' : 'none';\n",
              "        })();\n",
              "      </script>\n",
              "    </div>\n",
              "\n",
              "  <div id=\"id_6dd92374-30db-413e-afad-54db270a376f\">\n",
              "    <style>\n",
              "      .colab-df-generate {\n",
              "        background-color: #E8F0FE;\n",
              "        border: none;\n",
              "        border-radius: 50%;\n",
              "        cursor: pointer;\n",
              "        display: none;\n",
              "        fill: #1967D2;\n",
              "        height: 32px;\n",
              "        padding: 0 0 0 0;\n",
              "        width: 32px;\n",
              "      }\n",
              "\n",
              "      .colab-df-generate:hover {\n",
              "        background-color: #E2EBFA;\n",
              "        box-shadow: 0px 1px 2px rgba(60, 64, 67, 0.3), 0px 1px 3px 1px rgba(60, 64, 67, 0.15);\n",
              "        fill: #174EA6;\n",
              "      }\n",
              "\n",
              "      [theme=dark] .colab-df-generate {\n",
              "        background-color: #3B4455;\n",
              "        fill: #D2E3FC;\n",
              "      }\n",
              "\n",
              "      [theme=dark] .colab-df-generate:hover {\n",
              "        background-color: #434B5C;\n",
              "        box-shadow: 0px 1px 3px 1px rgba(0, 0, 0, 0.15);\n",
              "        filter: drop-shadow(0px 1px 2px rgba(0, 0, 0, 0.3));\n",
              "        fill: #FFFFFF;\n",
              "      }\n",
              "    </style>\n",
              "    <button class=\"colab-df-generate\" onclick=\"generateWithVariable('forecast_df')\"\n",
              "            title=\"Generate code using this dataframe.\"\n",
              "            style=\"display:none;\">\n",
              "\n",
              "  <svg xmlns=\"http://www.w3.org/2000/svg\" height=\"24px\"viewBox=\"0 0 24 24\"\n",
              "       width=\"24px\">\n",
              "    <path d=\"M7,19H8.4L18.45,9,17,7.55,7,17.6ZM5,21V16.75L18.45,3.32a2,2,0,0,1,2.83,0l1.4,1.43a1.91,1.91,0,0,1,.58,1.4,1.91,1.91,0,0,1-.58,1.4L9.25,21ZM18.45,9,17,7.55Zm-12,3A5.31,5.31,0,0,0,4.9,8.1,5.31,5.31,0,0,0,1,6.5,5.31,5.31,0,0,0,4.9,4.9,5.31,5.31,0,0,0,6.5,1,5.31,5.31,0,0,0,8.1,4.9,5.31,5.31,0,0,0,12,6.5,5.46,5.46,0,0,0,6.5,12Z\"/>\n",
              "  </svg>\n",
              "    </button>\n",
              "    <script>\n",
              "      (() => {\n",
              "      const buttonEl =\n",
              "        document.querySelector('#id_6dd92374-30db-413e-afad-54db270a376f button.colab-df-generate');\n",
              "      buttonEl.style.display =\n",
              "        google.colab.kernel.accessAllowed ? 'block' : 'none';\n",
              "\n",
              "      buttonEl.onclick = () => {\n",
              "        google.colab.notebook.generateWithVariable('forecast_df');\n",
              "      }\n",
              "      })();\n",
              "    </script>\n",
              "  </div>\n",
              "\n",
              "    </div>\n",
              "  </div>\n"
            ],
            "application/vnd.google.colaboratory.intrinsic+json": {
              "type": "dataframe",
              "variable_name": "forecast_df",
              "summary": "{\n  \"name\": \"forecast_df\",\n  \"rows\": 10,\n  \"fields\": [\n    {\n      \"column\": \"Date\",\n      \"properties\": {\n        \"dtype\": \"date\",\n        \"min\": \"2025-05-14 00:00:00\",\n        \"max\": \"2025-05-23 00:00:00\",\n        \"num_unique_values\": 10,\n        \"samples\": [\n          \"2025-05-22 00:00:00\",\n          \"2025-05-15 00:00:00\",\n          \"2025-05-19 00:00:00\"\n        ],\n        \"semantic_type\": \"\",\n        \"description\": \"\"\n      }\n    },\n    {\n      \"column\": \"Max Temp (\\u00b0C)\",\n      \"properties\": {\n        \"dtype\": \"number\",\n        \"std\": 0.9935905707192583,\n        \"min\": 34.1,\n        \"max\": 37.6,\n        \"num_unique_values\": 9,\n        \"samples\": [\n          35.7,\n          36.9,\n          35.8\n        ],\n        \"semantic_type\": \"\",\n        \"description\": \"\"\n      }\n    },\n    {\n      \"column\": \"Min Temp (\\u00b0C)\",\n      \"properties\": {\n        \"dtype\": \"number\",\n        \"std\": 0.45411696975803784,\n        \"min\": 26.4,\n        \"max\": 27.9,\n        \"num_unique_values\": 8,\n        \"samples\": [\n          27.9,\n          27.0,\n          27.8\n        ],\n        \"semantic_type\": \"\",\n        \"description\": \"\"\n      }\n    },\n    {\n      \"column\": \"Precipitation (mm)\",\n      \"properties\": {\n        \"dtype\": \"number\",\n        \"std\": 5.34686824225172,\n        \"min\": 0.0,\n        \"max\": 16.4,\n        \"num_unique_values\": 10,\n        \"samples\": [\n          2.7,\n          2.4,\n          12.9\n        ],\n        \"semantic_type\": \"\",\n        \"description\": \"\"\n      }\n    },\n    {\n      \"column\": \"Max Wind Speed (km/h)\",\n      \"properties\": {\n        \"dtype\": \"number\",\n        \"std\": 3.1811947441173727,\n        \"min\": 7.1,\n        \"max\": 17.4,\n        \"num_unique_values\": 10,\n        \"samples\": [\n          15.5,\n          11.5,\n          8.3\n        ],\n        \"semantic_type\": \"\",\n        \"description\": \"\"\n      }\n    },\n    {\n      \"column\": \"Max Humidity (%)\",\n      \"properties\": {\n        \"dtype\": \"number\",\n        \"std\": 2,\n        \"min\": 85,\n        \"max\": 92,\n        \"num_unique_values\": 6,\n        \"samples\": [\n          91,\n          85,\n          92\n        ],\n        \"semantic_type\": \"\",\n        \"description\": \"\"\n      }\n    },\n    {\n      \"column\": \"Weather Code\",\n      \"properties\": {\n        \"dtype\": \"number\",\n        \"std\": 28,\n        \"min\": 3,\n        \"max\": 96,\n        \"num_unique_values\": 5,\n        \"samples\": [\n          95,\n          3,\n          96\n        ],\n        \"semantic_type\": \"\",\n        \"description\": \"\"\n      }\n    }\n  ]\n}"
            }
          },
          "metadata": {},
          "execution_count": 40
        }
      ]
    },
    {
      "cell_type": "markdown",
      "source": [
        "# Data Visulization"
      ],
      "metadata": {
        "id": "bcPPx3c-G7uU"
      }
    },
    {
      "cell_type": "code",
      "source": [
        "import matplotlib.pyplot as plt"
      ],
      "metadata": {
        "id": "qPZ9nYFYHGcc"
      },
      "execution_count": null,
      "outputs": []
    },
    {
      "cell_type": "markdown",
      "source": [
        "**Plot temperature trends**"
      ],
      "metadata": {
        "id": "VWFP74MxH6q-"
      }
    },
    {
      "cell_type": "code",
      "source": [
        "plt.figure(figsize=(10, 5))\n",
        "plt.plot(forecast_df[\"Date\"], forecast_df[\"Max Temp (°C)\"], label=\"Max Temp\", marker='o')\n",
        "plt.plot(forecast_df[\"Date\"], forecast_df[\"Min Temp (°C)\"], label=\"Min Temp\", marker='o')\n",
        "plt.title(\"Temperature Forecast (Dhaka)\")\n",
        "plt.xlabel(\"Date\")\n",
        "plt.ylabel(\"Temperature (°C)\")\n",
        "plt.legend()\n",
        "plt.grid(True)\n",
        "plt.tight_layout()\n",
        "plt.show()"
      ],
      "metadata": {
        "colab": {
          "base_uri": "https://localhost:8080/",
          "height": 507
        },
        "id": "d3ZGyF8uHGif",
        "outputId": "11281864-5996-4a19-a95a-c51d6c4d2595"
      },
      "execution_count": null,
      "outputs": [
        {
          "output_type": "display_data",
          "data": {
            "text/plain": [
              "<Figure size 1000x500 with 1 Axes>"
            ],
            "image/png": "[encoded data removed]"
          },
          "metadata": {}
        }
      ]
    },
    {
      "cell_type": "markdown",
      "source": [
        "**Plot humidity & wind speed**"
      ],
      "metadata": {
        "id": "REaVSLBGHzZM"
      }
    },
    {
      "cell_type": "code",
      "source": [
        "plt.figure(figsize=(10, 5))\n",
        "plt.plot(forecast_df[\"Date\"], forecast_df[\"Max Humidity (%)\"], label=\"Humidity\", color=\"blue\", marker='s')\n",
        "plt.plot(forecast_df[\"Date\"], forecast_df[\"Max Wind Speed (km/h)\"], label=\"Wind Speed\", color=\"green\", marker='^')\n",
        "plt.title(\"Humidity & Wind Speed Forecast\")\n",
        "plt.xlabel(\"Date\")\n",
        "plt.ylabel(\"Value\")\n",
        "plt.legend()\n",
        "plt.grid(True)\n",
        "plt.tight_layout()\n",
        "plt.show()"
      ],
      "metadata": {
        "colab": {
          "base_uri": "https://localhost:8080/",
          "height": 507
        },
        "id": "N54h0v55HkT-",
        "outputId": "cc3a09ea-ea71-48e7-9935-c797ade9ed29"
      },
      "execution_count": null,
      "outputs": [
        {
          "output_type": "display_data",
          "data": {
            "text/plain": [
              "<Figure size 1000x500 with 1 Axes>"
            ],
            "image/png": "[encoded data removed]"
          },
          "metadata": {}
        }
      ]
    },
    {
      "cell_type": "markdown",
      "source": [
        "**Plot precipitation**"
      ],
      "metadata": {
        "id": "hNEjf3HQIPTd"
      }
    },
    {
      "cell_type": "code",
      "source": [
        "plt.figure(figsize=(10, 5))\n",
        "plt.bar(forecast_df[\"Date\"], forecast_df[\"Precipitation (mm)\"], color=\"skyblue\")\n",
        "plt.title(\"Precipitation Forecast (mm)\")\n",
        "plt.xlabel(\"Date\")\n",
        "plt.ylabel(\"Precipitation\")\n",
        "plt.xticks(rotation=45)\n",
        "plt.tight_layout()\n",
        "plt.show()"
      ],
      "metadata": {
        "colab": {
          "base_uri": "https://localhost:8080/",
          "height": 507
        },
        "id": "8aBxBqvkHkQK",
        "outputId": "919a3a5f-5014-4d54-ceca-ae0cc258e079"
      },
      "execution_count": null,
      "outputs": [
        {
          "output_type": "display_data",
          "data": {
            "text/plain": [
              "<Figure size 1000x500 with 1 Axes>"
            ],
            "image/png": "[encoded data removed]"
          },
          "metadata": {}
        }
      ]
    },
    {
      "cell_type": "markdown",
      "source": [
        "Try this with Seaborn"
      ],
      "metadata": {
        "id": "sYt2EFSFM5BE"
      }
    },
    {
      "cell_type": "code",
      "source": [
        "import seaborn as sns"
      ],
      "metadata": {
        "id": "L40VC9DoM3y0"
      },
      "execution_count": null,
      "outputs": []
    },
    {
      "cell_type": "code",
      "source": [
        "sns.set(style=\"darkgrid\")\n",
        "plt.figure(figsize=(12, 6))"
      ],
      "metadata": {
        "colab": {
          "base_uri": "https://localhost:8080/",
          "height": 52
        },
        "id": "C88_pAIVM3td",
        "outputId": "7bdc82dd-c3ee-4f98-887d-7704e5b8606b"
      },
      "execution_count": null,
      "outputs": [
        {
          "output_type": "execute_result",
          "data": {
            "text/plain": [
              "<Figure size 1200x600 with 0 Axes>"
            ]
          },
          "metadata": {},
          "execution_count": 44
        },
        {
          "output_type": "display_data",
          "data": {
            "text/plain": [
              "<Figure size 1200x600 with 0 Axes>"
            ]
          },
          "metadata": {}
        }
      ]
    },
    {
      "cell_type": "markdown",
      "source": [
        "**Line Plot: Max and Min Temperature**"
      ],
      "metadata": {
        "id": "jU6-2eWHNNk7"
      }
    },
    {
      "cell_type": "code",
      "source": [
        "plt.figure(figsize=(12, 5));\n",
        "plt.plot(df[\"Date\"], df[\"Max Temp (°C)\"], marker='o', label=\"Max Temp\");\n",
        "plt.plot(df[\"Date\"], df[\"Min Temp (°C)\"], marker='o', label=\"Min Temp\");\n",
        "plt.title(\"🌡️ Daily Max & Min Temperatures\");\n",
        "plt.xlabel(\"Date\");\n",
        "plt.ylabel(\"Temperature (°C)\")\n",
        "plt.xticks(rotation=45);\n",
        "plt.legend();\n",
        "plt.tight_layout();\n",
        "plt.show();"
      ],
      "metadata": {
        "colab": {
          "base_uri": "https://localhost:8080/",
          "height": 507
        },
        "id": "hO98mn23M3pn",
        "outputId": "1d26af77-5dd5-414a-b9aa-a2a77c9dd561"
      },
      "execution_count": null,
      "outputs": [
        {
          "output_type": "stream",
          "name": "stderr",
          "text": [
            "<ipython-input-50-43b36031d5d4>:9: UserWarning: Glyph 127777 (\\N{THERMOMETER}) missing from font(s) DejaVu Sans.\n",
            "  plt.tight_layout();\n"
          ]
        },
        {
          "output_type": "display_data",
          "data": {
            "text/plain": [
              "<Figure size 1200x500 with 1 Axes>"
            ],
            "image/png": "[encoded data removed]"
          },
          "metadata": {}
        }
      ]
    },
    {
      "cell_type": "markdown",
      "source": [
        "**Bar Chart: Daily Precipitation**"
      ],
      "metadata": {
        "id": "g9h2uBovNlwj"
      }
    },
    {
      "cell_type": "code",
      "source": [
        "plt.figure(figsize=(12, 5))\n",
        "sns.barplot(x=\"Date\", y=\"Precipitation (mm)\", data=df, color=\"pink\")\n",
        "plt.title(\"☔ Daily Precipitation\")\n",
        "plt.xlabel(\"Date\")\n",
        "plt.ylabel(\"Precipitation (mm)\")\n",
        "plt.xticks(rotation=45)\n",
        "plt.tight_layout()\n",
        "plt.show()"
      ],
      "metadata": {
        "colab": {
          "base_uri": "https://localhost:8080/",
          "height": 472
        },
        "id": "zKkjctgTNM2m",
        "outputId": "41ab200f-5bf1-4908-fab4-b8e751ff6290"
      },
      "execution_count": null,
      "outputs": [
        {
          "output_type": "display_data",
          "data": {
            "text/plain": [
              "<Figure size 1200x500 with 1 Axes>"
            ],
            "image/png": "[encoded data removed]"
          },
          "metadata": {}
        }
      ]
    },
    {
      "cell_type": "code",
      "source": [],
      "metadata": {
        "id": "HYnVz8yVNMuK"
      },
      "execution_count": null,
      "outputs": []
    },
    {
      "cell_type": "code",
      "source": [],
      "metadata": {
        "id": "BRTYeaOrNMqK"
      },
      "execution_count": null,
      "outputs": []
    }
  ]
}